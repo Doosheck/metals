{
 "cells": [
  {
   "cell_type": "code",
   "execution_count": 1,
   "metadata": {},
   "outputs": [],
   "source": [
    "from statsmodels.tsa.stattools import adfuller, kpss\n",
    "\n",
    "def check_stationarity(ts, significance_level=0.05):\n",
    "    results = {}\n",
    "\n",
    "    # ADF Test\n",
    "    adf_result = adfuller(ts, autolag='AIC')\n",
    "    results['ADF'] = {\n",
    "        'Test Statistic': adf_result[0],\n",
    "        'p-value': adf_result[1],\n",
    "        'Critical Values': adf_result[4],\n",
    "        'Stationary': adf_result[1] < significance_level\n",
    "    }\n",
    "\n",
    "    # KPSS Test\n",
    "    kpss_result = kpss(ts, regression='c', nlags='auto')\n",
    "    results['KPSS'] = {\n",
    "        'Test Statistic': kpss_result[0],\n",
    "        'p-value': kpss_result[1],\n",
    "        'Critical Values': kpss_result[3],\n",
    "        'Stationary': kpss_result[1] >= significance_level\n",
    "    }\n",
    "\n",
    "    # Print summary\n",
    "    print(\"\\nStationarity Test Results:\")\n",
    "    for test, res in results.items():\n",
    "        print(f\"\\n{test} Test:\")\n",
    "        print(f\"  Test Statistic : {res['Test Statistic']:.4f}\")\n",
    "        print(f\"  p-value        : {res['p-value']:.4f}\")\n",
    "        print(f\"  Stationary     : {'Yes' if res['Stationary'] else 'No'}\")\n",
    "\n",
    "    return results\n"
   ]
  },
  {
   "cell_type": "code",
   "execution_count": 2,
   "metadata": {},
   "outputs": [],
   "source": [
    "import pandas as pd"
   ]
  },
  {
   "cell_type": "markdown",
   "metadata": {},
   "source": [
    "# Lithium"
   ]
  },
  {
   "cell_type": "markdown",
   "metadata": {},
   "source": [
    "### Dailymetal"
   ]
  },
  {
   "cell_type": "code",
   "execution_count": 4,
   "metadata": {},
   "outputs": [
    {
     "name": "stdout",
     "output_type": "stream",
     "text": [
      "\n",
      "Stationarity Test Results:\n",
      "\n",
      "ADF Test:\n",
      "  Test Statistic : -1.5641\n",
      "  p-value        : 0.5016\n",
      "  Stationary     : No\n",
      "\n",
      "KPSS Test:\n",
      "  Test Statistic : 1.4899\n",
      "  p-value        : 0.0100\n",
      "  Stationary     : No\n"
     ]
    },
    {
     "name": "stderr",
     "output_type": "stream",
     "text": [
      "/var/folders/mx/rb01m4j51yzbjz0dxm6z_2r80000gn/T/ipykernel_9095/2758724182.py:16: InterpolationWarning: The test statistic is outside of the range of p-values available in the\n",
      "look-up table. The actual p-value is smaller than the p-value returned.\n",
      "\n",
      "  kpss_result = kpss(ts, regression='c', nlags='auto')\n"
     ]
    },
    {
     "data": {
      "text/plain": [
       "{'ADF': {'Test Statistic': np.float64(-1.5641258577352073),\n",
       "  'p-value': np.float64(0.5015848655677647),\n",
       "  'Critical Values': {'1%': np.float64(-3.4338405492171575),\n",
       "   '5%': np.float64(-2.8630818807604768),\n",
       "   '10%': np.float64(-2.5675908407967776)},\n",
       "  'Stationary': np.False_},\n",
       " 'KPSS': {'Test Statistic': np.float64(1.4899024591110839),\n",
       "  'p-value': np.float64(0.01),\n",
       "  'Critical Values': {'10%': 0.347, '5%': 0.463, '2.5%': 0.574, '1%': 0.739},\n",
       "  'Stationary': np.False_}}"
      ]
     },
     "execution_count": 4,
     "metadata": {},
     "output_type": "execute_result"
    }
   ],
   "source": [
    "# Load data source #1 - Lithium prices in USD per kilogram\n",
    "df1 = pd.read_csv('/Users/michal/Documents/Code/metals/data/Lithium_prices_2017-01-01_to_2021-12-31_merged.csv')\n",
    "df1['Date'] = pd.to_datetime(df1['Date'])\n",
    "df1['Price'] = df1['Price'].astype(float)\n",
    "df1 = df1.drop(columns=['Unit'])\n",
    "check_stationarity(df1['Price'])"
   ]
  },
  {
   "cell_type": "markdown",
   "metadata": {},
   "source": [
    "### Sount America LOB - only one datapoint per month"
   ]
  },
  {
   "cell_type": "code",
   "execution_count": 5,
   "metadata": {},
   "outputs": [
    {
     "name": "stdout",
     "output_type": "stream",
     "text": [
      "\n",
      "Stationarity Test Results:\n",
      "\n",
      "ADF Test:\n",
      "  Test Statistic : -2.8016\n",
      "  p-value        : 0.0580\n",
      "  Stationary     : No\n",
      "\n",
      "KPSS Test:\n",
      "  Test Statistic : 0.4010\n",
      "  p-value        : 0.0767\n",
      "  Stationary     : Yes\n"
     ]
    },
    {
     "name": "stderr",
     "output_type": "stream",
     "text": [
      "/var/folders/mx/rb01m4j51yzbjz0dxm6z_2r80000gn/T/ipykernel_9095/2710185046.py:4: UserWarning: Parsing dates in %d.%m.%Y format when dayfirst=False (the default) was specified. Pass `dayfirst=True` or specify a format to silence this warning.\n",
      "  df2['Date'] = pd.to_datetime(df2['Date'])\n"
     ]
    },
    {
     "data": {
      "text/plain": [
       "{'ADF': {'Test Statistic': np.float64(-2.801613012565535),\n",
       "  'p-value': np.float64(0.05804372985249331),\n",
       "  'Critical Values': {'1%': np.float64(-3.490683082754047),\n",
       "   '5%': np.float64(-2.8879516565798817),\n",
       "   '10%': np.float64(-2.5808574442009578)},\n",
       "  'Stationary': np.False_},\n",
       " 'KPSS': {'Test Statistic': np.float64(0.4009568367621315),\n",
       "  'p-value': np.float64(0.07674274277494332),\n",
       "  'Critical Values': {'10%': 0.347, '5%': 0.463, '2.5%': 0.574, '1%': 0.739},\n",
       "  'Stationary': np.True_}}"
      ]
     },
     "execution_count": 5,
     "metadata": {},
     "output_type": "execute_result"
    }
   ],
   "source": [
    "# Load data source #2 - South America LOB\n",
    "df2 = pd.read_csv('/Users/michal/Documents/Code/metals/bloomberg_data/lithium_SouthAmerica_LOB_2017m.csv', sep=';')\n",
    "df2.head()\n",
    "df2['Date'] = pd.to_datetime(df2['Date'])\n",
    "df2['Price'] = df2['Price'].astype(float)\n",
    "df2['Price'] = df2['Price']\n",
    "check_stationarity(df2['Price'])"
   ]
  },
  {
   "cell_type": "markdown",
   "metadata": {},
   "source": [
    "### COMEX Lithium Hydroxide"
   ]
  },
  {
   "cell_type": "code",
   "execution_count": 6,
   "metadata": {},
   "outputs": [
    {
     "name": "stdout",
     "output_type": "stream",
     "text": [
      "\n",
      "Stationarity Test Results:\n",
      "\n",
      "ADF Test:\n",
      "  Test Statistic : -1.3749\n",
      "  p-value        : 0.5942\n",
      "  Stationary     : No\n",
      "\n",
      "KPSS Test:\n",
      "  Test Statistic : 2.0403\n",
      "  p-value        : 0.0100\n",
      "  Stationary     : No\n"
     ]
    },
    {
     "name": "stderr",
     "output_type": "stream",
     "text": [
      "/var/folders/mx/rb01m4j51yzbjz0dxm6z_2r80000gn/T/ipykernel_9095/2758724182.py:16: InterpolationWarning: The test statistic is outside of the range of p-values available in the\n",
      "look-up table. The actual p-value is smaller than the p-value returned.\n",
      "\n",
      "  kpss_result = kpss(ts, regression='c', nlags='auto')\n"
     ]
    },
    {
     "data": {
      "text/plain": [
       "{'ADF': {'Test Statistic': np.float64(-1.3749187708046746),\n",
       "  'p-value': np.float64(0.5942395744084839),\n",
       "  'Critical Values': {'1%': np.float64(-3.4369525024039884),\n",
       "   '5%': np.float64(-2.8644550095200705),\n",
       "   '10%': np.float64(-2.568322093455802)},\n",
       "  'Stationary': np.False_},\n",
       " 'KPSS': {'Test Statistic': np.float64(2.0403114741108404),\n",
       "  'p-value': np.float64(0.01),\n",
       "  'Critical Values': {'10%': 0.347, '5%': 0.463, '2.5%': 0.574, '1%': 0.739},\n",
       "  'Stationary': np.False_}}"
      ]
     },
     "execution_count": 6,
     "metadata": {},
     "output_type": "execute_result"
    }
   ],
   "source": [
    "df3 = pd.read_csv('/Users/michal/Documents/Code/metals/reuters_data/COMEX Lithium Hydroxide CIF CJK (Fastmarkets) Electronic Commodity Future Continuation 1.csv', sep=';')\n",
    "df3 = df3.rename(columns={'Exchange Date': 'Date'})\n",
    "df3 = df3.rename(columns={'Close' : 'Price'})\n",
    "df3['Date'] = pd.to_datetime(df3['Date'], format='%d-%b-%Y')\n",
    "df3 = df3.iloc[:, :4] # Keep only the first 4 columns\n",
    "check_stationarity(df3['Price'])"
   ]
  },
  {
   "cell_type": "markdown",
   "metadata": {},
   "source": [
    "### Lithium Americas Corp"
   ]
  },
  {
   "cell_type": "code",
   "execution_count": 7,
   "metadata": {},
   "outputs": [
    {
     "name": "stdout",
     "output_type": "stream",
     "text": [
      "\n",
      "Stationarity Test Results:\n",
      "\n",
      "ADF Test:\n",
      "  Test Statistic : 0.5369\n",
      "  p-value        : 0.9860\n",
      "  Stationary     : No\n",
      "\n",
      "KPSS Test:\n",
      "  Test Statistic : 2.1784\n",
      "  p-value        : 0.0100\n",
      "  Stationary     : No\n"
     ]
    },
    {
     "name": "stderr",
     "output_type": "stream",
     "text": [
      "/var/folders/mx/rb01m4j51yzbjz0dxm6z_2r80000gn/T/ipykernel_9095/2758724182.py:16: InterpolationWarning: The test statistic is outside of the range of p-values available in the\n",
      "look-up table. The actual p-value is smaller than the p-value returned.\n",
      "\n",
      "  kpss_result = kpss(ts, regression='c', nlags='auto')\n"
     ]
    },
    {
     "data": {
      "text/plain": [
       "{'ADF': {'Test Statistic': np.float64(0.536872482706402),\n",
       "  'p-value': np.float64(0.9859517495557283),\n",
       "  'Critical Values': {'1%': np.float64(-3.447405233596701),\n",
       "   '5%': np.float64(-2.8690569369014605),\n",
       "   '10%': np.float64(-2.5707743450830893)},\n",
       "  'Stationary': np.False_},\n",
       " 'KPSS': {'Test Statistic': np.float64(2.1784415196844087),\n",
       "  'p-value': np.float64(0.01),\n",
       "  'Critical Values': {'10%': 0.347, '5%': 0.463, '2.5%': 0.574, '1%': 0.739},\n",
       "  'Stationary': np.False_}}"
      ]
     },
     "execution_count": 7,
     "metadata": {},
     "output_type": "execute_result"
    }
   ],
   "source": [
    "# Load Lithium data source #4 - Lithium Americas Corp\n",
    "df4 = pd.read_csv('/Users/michal/Documents/Code/metals/reuters_data/Lithium Americas Corp.csv', sep=';')\n",
    "df4 = df4.rename(columns={'Exchange Date': 'Date'})\n",
    "df4 = df4.rename(columns={'Close' : 'Price'})\n",
    "df4['Date'] = pd.to_datetime(df4['Date'], format='%d-%b-%Y')\n",
    "df4 = df4.iloc[:, :2] # Keep only the first 2 columns\n",
    "df4['Price'] = df4['Price'].str.replace(',', '.').astype(float)\n",
    "check_stationarity(df4['Price'])"
   ]
  },
  {
   "cell_type": "markdown",
   "metadata": {},
   "source": [
    "### East Asia Lithium Carbonate 99.5% Swap\n"
   ]
  },
  {
   "cell_type": "code",
   "execution_count": 8,
   "metadata": {},
   "outputs": [
    {
     "name": "stdout",
     "output_type": "stream",
     "text": [
      "\n",
      "Stationarity Test Results:\n",
      "\n",
      "ADF Test:\n",
      "  Test Statistic : -1.4119\n",
      "  p-value        : 0.5765\n",
      "  Stationary     : No\n",
      "\n",
      "KPSS Test:\n",
      "  Test Statistic : 2.8103\n",
      "  p-value        : 0.0100\n",
      "  Stationary     : No\n"
     ]
    },
    {
     "name": "stderr",
     "output_type": "stream",
     "text": [
      "/var/folders/mx/rb01m4j51yzbjz0dxm6z_2r80000gn/T/ipykernel_9095/2758724182.py:16: InterpolationWarning: The test statistic is outside of the range of p-values available in the\n",
      "look-up table. The actual p-value is smaller than the p-value returned.\n",
      "\n",
      "  kpss_result = kpss(ts, regression='c', nlags='auto')\n"
     ]
    },
    {
     "data": {
      "text/plain": [
       "{'ADF': {'Test Statistic': np.float64(-1.4119301166732048),\n",
       "  'p-value': np.float64(0.5765434956089467),\n",
       "  'Critical Values': {'1%': np.float64(-3.44407586647939),\n",
       "   '5%': np.float64(-2.867592847097137),\n",
       "   '10%': np.float64(-2.5699939338217668)},\n",
       "  'Stationary': np.False_},\n",
       " 'KPSS': {'Test Statistic': np.float64(2.810278100153394),\n",
       "  'p-value': np.float64(0.01),\n",
       "  'Critical Values': {'10%': 0.347, '5%': 0.463, '2.5%': 0.574, '1%': 0.739},\n",
       "  'Stationary': np.False_}}"
      ]
     },
     "execution_count": 8,
     "metadata": {},
     "output_type": "execute_result"
    }
   ],
   "source": [
    "df5 = pd.read_csv('/Users/michal/Documents/Code/metals/bloomberg_data/East Asia Lithium Carbonate 99.5% CIF CJK Financial Swap USD:MT (Fastmarkets) Singapore Exchange SIMEX.csv', sep=';')\n",
    "df5 = df5.iloc[:, :2]\n",
    "df5['Date'] = pd.to_datetime(df5['Date'], format='%m/%d/%y')\n",
    "df5['Close Price'] = df5['Close Price'].str.replace(',', '.').astype(float)\n",
    "df5 = df5.rename(columns={'Close Price': 'Price'})\n",
    "df5 = df5.sort_values(by='Date')\n",
    "check_stationarity(df5['Price'])"
   ]
  },
  {
   "cell_type": "markdown",
   "metadata": {},
   "source": [
    "### East Asia Lithium Carbonate Battery Grade CIF"
   ]
  },
  {
   "cell_type": "code",
   "execution_count": 9,
   "metadata": {},
   "outputs": [
    {
     "name": "stdout",
     "output_type": "stream",
     "text": [
      "\n",
      "Stationarity Test Results:\n",
      "\n",
      "ADF Test:\n",
      "  Test Statistic : -1.2711\n",
      "  p-value        : 0.6423\n",
      "  Stationary     : No\n",
      "\n",
      "KPSS Test:\n",
      "  Test Statistic : 2.4980\n",
      "  p-value        : 0.0100\n",
      "  Stationary     : No\n"
     ]
    },
    {
     "name": "stderr",
     "output_type": "stream",
     "text": [
      "/var/folders/mx/rb01m4j51yzbjz0dxm6z_2r80000gn/T/ipykernel_9095/2758724182.py:16: InterpolationWarning: The test statistic is outside of the range of p-values available in the\n",
      "look-up table. The actual p-value is smaller than the p-value returned.\n",
      "\n",
      "  kpss_result = kpss(ts, regression='c', nlags='auto')\n"
     ]
    },
    {
     "data": {
      "text/plain": [
       "{'ADF': {'Test Statistic': np.float64(-1.2711015873999292),\n",
       "  'p-value': np.float64(0.6422875180612239),\n",
       "  'Critical Values': {'1%': np.float64(-3.4436840273842058),\n",
       "   '5%': np.float64(-2.8674204319994674),\n",
       "   '10%': np.float64(-2.5699020441557052)},\n",
       "  'Stationary': np.False_},\n",
       " 'KPSS': {'Test Statistic': np.float64(2.4980152954656782),\n",
       "  'p-value': np.float64(0.01),\n",
       "  'Critical Values': {'10%': 0.347, '5%': 0.463, '2.5%': 0.574, '1%': 0.739},\n",
       "  'Stationary': np.False_}}"
      ]
     },
     "execution_count": 9,
     "metadata": {},
     "output_type": "execute_result"
    }
   ],
   "source": [
    "df6 = pd.read_csv('/Users/michal/Documents/Code/metals/bloomberg_data/East Asia Lithium Carbonate China Korea Japan Battery Grade CIF USD:kg Future Singapore Exchange SIMEX.csv', sep=';')\n",
    "df6 = df6.iloc[:, :2]\n",
    "df6['Date'] = pd.to_datetime(df6['Date'], format='%m/%d/%y')\n",
    "df6['Close Price'] = df6['Close Price'].str.replace(',', '.').astype(float)\n",
    "df6 = df6.rename(columns={'Close Price': 'Price'})\n",
    "df6 = df6.sort_values(by='Date')\n",
    "check_stationarity(df6['Price'])"
   ]
  },
  {
   "cell_type": "markdown",
   "metadata": {},
   "source": [
    "# Nickel"
   ]
  },
  {
   "cell_type": "markdown",
   "metadata": {},
   "source": [
    "### Dailymetal"
   ]
  },
  {
   "cell_type": "code",
   "execution_count": 10,
   "metadata": {},
   "outputs": [
    {
     "name": "stdout",
     "output_type": "stream",
     "text": [
      "\n",
      "Stationarity Test Results:\n",
      "\n",
      "ADF Test:\n",
      "  Test Statistic : -2.0241\n",
      "  p-value        : 0.2761\n",
      "  Stationary     : No\n",
      "\n",
      "KPSS Test:\n",
      "  Test Statistic : 3.9176\n",
      "  p-value        : 0.0100\n",
      "  Stationary     : No\n"
     ]
    },
    {
     "name": "stderr",
     "output_type": "stream",
     "text": [
      "/var/folders/mx/rb01m4j51yzbjz0dxm6z_2r80000gn/T/ipykernel_9095/2758724182.py:16: InterpolationWarning: The test statistic is outside of the range of p-values available in the\n",
      "look-up table. The actual p-value is smaller than the p-value returned.\n",
      "\n",
      "  kpss_result = kpss(ts, regression='c', nlags='auto')\n"
     ]
    },
    {
     "data": {
      "text/plain": [
       "{'ADF': {'Test Statistic': np.float64(-2.024108062720395),\n",
       "  'p-value': np.float64(0.276103604099189),\n",
       "  'Critical Values': {'1%': np.float64(-3.433556434584693),\n",
       "   '5%': np.float64(-2.862956446160557),\n",
       "   '10%': np.float64(-2.5675240526993854)},\n",
       "  'Stationary': np.False_},\n",
       " 'KPSS': {'Test Statistic': np.float64(3.9175557747830787),\n",
       "  'p-value': np.float64(0.01),\n",
       "  'Critical Values': {'10%': 0.347, '5%': 0.463, '2.5%': 0.574, '1%': 0.739},\n",
       "  'Stationary': np.False_}}"
      ]
     },
     "execution_count": 10,
     "metadata": {},
     "output_type": "execute_result"
    }
   ],
   "source": [
    "dfn1 = pd.read_csv('/Users/michal/Documents/Code/metals/data/Nickel_prices_2017-01-01_to_2024-12-31_merged.csv')\n",
    "dfn1['Date'] = pd.to_datetime(dfn1['Date'])\n",
    "dfn1['Price'] = dfn1['Price'].astype(float)\n",
    "dfn1 = dfn1.drop(columns=['Unit'])\n",
    "dfn1 = dfn1.drop_duplicates(subset=['Date'])\n",
    "check_stationarity(dfn1['Price'])"
   ]
  },
  {
   "cell_type": "markdown",
   "metadata": {},
   "source": [
    "### LME"
   ]
  },
  {
   "cell_type": "code",
   "execution_count": 11,
   "metadata": {},
   "outputs": [
    {
     "name": "stdout",
     "output_type": "stream",
     "text": [
      "\n",
      "Stationarity Test Results:\n",
      "\n",
      "ADF Test:\n",
      "  Test Statistic : -1.9794\n",
      "  p-value        : 0.2957\n",
      "  Stationary     : No\n",
      "\n",
      "KPSS Test:\n",
      "  Test Statistic : 3.9543\n",
      "  p-value        : 0.0100\n",
      "  Stationary     : No\n"
     ]
    },
    {
     "name": "stderr",
     "output_type": "stream",
     "text": [
      "/var/folders/mx/rb01m4j51yzbjz0dxm6z_2r80000gn/T/ipykernel_9095/2758724182.py:16: InterpolationWarning: The test statistic is outside of the range of p-values available in the\n",
      "look-up table. The actual p-value is smaller than the p-value returned.\n",
      "\n",
      "  kpss_result = kpss(ts, regression='c', nlags='auto')\n"
     ]
    },
    {
     "data": {
      "text/plain": [
       "{'ADF': {'Test Statistic': np.float64(-1.9793919418904973),\n",
       "  'p-value': np.float64(0.2956814660478649),\n",
       "  'Critical Values': {'1%': np.float64(-3.433622218212895),\n",
       "   '5%': np.float64(-2.8629854902259004),\n",
       "   '10%': np.float64(-2.5675395171404802)},\n",
       "  'Stationary': np.False_},\n",
       " 'KPSS': {'Test Statistic': np.float64(3.954280341348328),\n",
       "  'p-value': np.float64(0.01),\n",
       "  'Critical Values': {'10%': 0.347, '5%': 0.463, '2.5%': 0.574, '1%': 0.739},\n",
       "  'Stationary': np.False_}}"
      ]
     },
     "execution_count": 11,
     "metadata": {},
     "output_type": "execute_result"
    }
   ],
   "source": [
    "dfn2 = pd.read_csv('/Users/michal/Documents/Code/metals/bloomberg_data/nickel_HLOC_2017_2024.csv', sep=';')\n",
    "dfn2['Date'] = pd.to_datetime(dfn2['Date'], dayfirst=True)\n",
    "dfn2 = dfn2.rename(columns={'PX_LAST': 'Price'})\n",
    "dfn2['Price'] = dfn2['Price'].astype(float)\n",
    "dfn2 = dfn2.drop(index=0)\n",
    "dfn2 = dfn2.sort_values(by='Date')\n",
    "dfn2 = dfn2.iloc[:, :2] \n",
    "check_stationarity(dfn2['Price'])"
   ]
  },
  {
   "cell_type": "markdown",
   "metadata": {},
   "source": [
    "### Nickel Miners ETF"
   ]
  },
  {
   "cell_type": "code",
   "execution_count": 12,
   "metadata": {},
   "outputs": [
    {
     "name": "stdout",
     "output_type": "stream",
     "text": [
      "\n",
      "Stationarity Test Results:\n",
      "\n",
      "ADF Test:\n",
      "  Test Statistic : -1.0089\n",
      "  p-value        : 0.7500\n",
      "  Stationary     : No\n",
      "\n",
      "KPSS Test:\n",
      "  Test Statistic : 3.0272\n",
      "  p-value        : 0.0100\n",
      "  Stationary     : No\n"
     ]
    },
    {
     "name": "stderr",
     "output_type": "stream",
     "text": [
      "/var/folders/mx/rb01m4j51yzbjz0dxm6z_2r80000gn/T/ipykernel_9095/2758724182.py:16: InterpolationWarning: The test statistic is outside of the range of p-values available in the\n",
      "look-up table. The actual p-value is smaller than the p-value returned.\n",
      "\n",
      "  kpss_result = kpss(ts, regression='c', nlags='auto')\n"
     ]
    },
    {
     "data": {
      "text/plain": [
       "{'ADF': {'Test Statistic': np.float64(-1.008896678084903),\n",
       "  'p-value': np.float64(0.7500056272672931),\n",
       "  'Critical Values': {'1%': np.float64(-3.4425861905056556),\n",
       "   '5%': np.float64(-2.8669372502674824),\n",
       "   '10%': np.float64(-2.5696445454608505)},\n",
       "  'Stationary': np.False_},\n",
       " 'KPSS': {'Test Statistic': np.float64(3.027208488491869),\n",
       "  'p-value': np.float64(0.01),\n",
       "  'Critical Values': {'10%': 0.347, '5%': 0.463, '2.5%': 0.574, '1%': 0.739},\n",
       "  'Stationary': np.False_}}"
      ]
     },
     "execution_count": 12,
     "metadata": {},
     "output_type": "execute_result"
    }
   ],
   "source": [
    "dfn3 = pd.read_csv('/Users/michal/Documents/Code/metals/reuters_data/Sprott Nickel Prices ETF.csv', sep=';')\n",
    "dfn3 = dfn3.rename(columns={'Exchange Date': 'Date'})\n",
    "dfn3 = dfn3.rename(columns={'Close' : 'Price'})\n",
    "dfn3['Date'] = pd.to_datetime(dfn3['Date'], format='%d-%b-%Y')\n",
    "dfn3['Price'] = dfn3['Price'].str.replace(',', '.').astype(float)\n",
    "check_stationarity(dfn3['Price'])"
   ]
  },
  {
   "cell_type": "markdown",
   "metadata": {},
   "source": [
    "# Cobalt"
   ]
  },
  {
   "cell_type": "markdown",
   "metadata": {},
   "source": [
    "### Dailymetal"
   ]
  },
  {
   "cell_type": "code",
   "execution_count": 13,
   "metadata": {},
   "outputs": [
    {
     "name": "stdout",
     "output_type": "stream",
     "text": [
      "\n",
      "Stationarity Test Results:\n",
      "\n",
      "ADF Test:\n",
      "  Test Statistic : -1.9073\n",
      "  p-value        : 0.3286\n",
      "  Stationary     : No\n",
      "\n",
      "KPSS Test:\n",
      "  Test Statistic : 1.4780\n",
      "  p-value        : 0.0100\n",
      "  Stationary     : No\n"
     ]
    },
    {
     "name": "stderr",
     "output_type": "stream",
     "text": [
      "/var/folders/mx/rb01m4j51yzbjz0dxm6z_2r80000gn/T/ipykernel_9095/2758724182.py:16: InterpolationWarning: The test statistic is outside of the range of p-values available in the\n",
      "look-up table. The actual p-value is smaller than the p-value returned.\n",
      "\n",
      "  kpss_result = kpss(ts, regression='c', nlags='auto')\n"
     ]
    },
    {
     "data": {
      "text/plain": [
       "{'ADF': {'Test Statistic': np.float64(-1.9072697691205844),\n",
       "  'p-value': np.float64(0.32864894846552756),\n",
       "  'Critical Values': {'1%': np.float64(-3.4335674780489867),\n",
       "   '5%': np.float64(-2.862961321994259),\n",
       "   '10%': np.float64(-2.567526648817681)},\n",
       "  'Stationary': np.False_},\n",
       " 'KPSS': {'Test Statistic': np.float64(1.478034241295779),\n",
       "  'p-value': np.float64(0.01),\n",
       "  'Critical Values': {'10%': 0.347, '5%': 0.463, '2.5%': 0.574, '1%': 0.739},\n",
       "  'Stationary': np.False_}}"
      ]
     },
     "execution_count": 13,
     "metadata": {},
     "output_type": "execute_result"
    }
   ],
   "source": [
    "dfc1 = pd.read_csv('/Users/michal/Documents/Code/metals/data/Cobalt_prices_2017-01-01_to_2024-12-31_merged.csv')\n",
    "dfc1['Date'] = pd.to_datetime(dfc1['Date'])\n",
    "dfc1['Price'] = dfc1['Price'].astype(float)\n",
    "dfc1 = dfc1.drop(columns=['Unit'])\n",
    "dfc1 = dfc1.drop_duplicates(subset=['Date'])\n",
    "dfc1 = dfc1.sort_values(by='Date')\n",
    "check_stationarity(dfc1['Price'])"
   ]
  },
  {
   "cell_type": "markdown",
   "metadata": {},
   "source": [
    "### LME"
   ]
  },
  {
   "cell_type": "code",
   "execution_count": 14,
   "metadata": {},
   "outputs": [
    {
     "name": "stdout",
     "output_type": "stream",
     "text": [
      "\n",
      "Stationarity Test Results:\n",
      "\n",
      "ADF Test:\n",
      "  Test Statistic : -1.4640\n",
      "  p-value        : 0.5512\n",
      "  Stationary     : No\n",
      "\n",
      "KPSS Test:\n",
      "  Test Statistic : 1.5536\n",
      "  p-value        : 0.0100\n",
      "  Stationary     : No\n"
     ]
    },
    {
     "name": "stderr",
     "output_type": "stream",
     "text": [
      "/var/folders/mx/rb01m4j51yzbjz0dxm6z_2r80000gn/T/ipykernel_9095/2758724182.py:16: InterpolationWarning: The test statistic is outside of the range of p-values available in the\n",
      "look-up table. The actual p-value is smaller than the p-value returned.\n",
      "\n",
      "  kpss_result = kpss(ts, regression='c', nlags='auto')\n"
     ]
    },
    {
     "data": {
      "text/plain": [
       "{'ADF': {'Test Statistic': np.float64(-1.4639939818412788),\n",
       "  'p-value': np.float64(0.5512419114902566),\n",
       "  'Critical Values': {'1%': np.float64(-3.4336124232421144),\n",
       "   '5%': np.float64(-2.8629811656983755),\n",
       "   '10%': np.float64(-2.5675372145497732)},\n",
       "  'Stationary': np.False_},\n",
       " 'KPSS': {'Test Statistic': np.float64(1.553557705467809),\n",
       "  'p-value': np.float64(0.01),\n",
       "  'Critical Values': {'10%': 0.347, '5%': 0.463, '2.5%': 0.574, '1%': 0.739},\n",
       "  'Stationary': np.False_}}"
      ]
     },
     "execution_count": 14,
     "metadata": {},
     "output_type": "execute_result"
    }
   ],
   "source": [
    "dfc2 = pd.read_csv('/Users/michal/Documents/Code/metals/bloomberg_data/cobalt_HLOC_2017_2024.csv', sep=';')\n",
    "dfc2['Date'] = pd.to_datetime(dfc2['Date'], dayfirst=True)\n",
    "dfc2 = dfc2.rename(columns={'PX_LAST': 'Price'})\n",
    "# Replace commas with dots and convert the 'Price' column to float\n",
    "dfc2['Price'] = dfc2['Price'].str.replace(',', '.').astype(float)\n",
    "dfc2 = dfc2.drop(index=0)\n",
    "dfc2 = dfc2.sort_values(by='Date')\n",
    "dfc2 = dfc2.iloc[:, :2]\n",
    "dfc2['Price'] = dfc2['Price']\n",
    "check_stationarity(dfc2['Price'])"
   ]
  },
  {
   "cell_type": "markdown",
   "metadata": {},
   "source": [
    "### LME 3M Forward"
   ]
  },
  {
   "cell_type": "code",
   "execution_count": 15,
   "metadata": {},
   "outputs": [
    {
     "name": "stdout",
     "output_type": "stream",
     "text": [
      "\n",
      "Stationarity Test Results:\n",
      "\n",
      "ADF Test:\n",
      "  Test Statistic : -1.6547\n",
      "  p-value        : 0.4546\n",
      "  Stationary     : No\n",
      "\n",
      "KPSS Test:\n",
      "  Test Statistic : 1.8107\n",
      "  p-value        : 0.0100\n",
      "  Stationary     : No\n"
     ]
    },
    {
     "name": "stderr",
     "output_type": "stream",
     "text": [
      "/var/folders/mx/rb01m4j51yzbjz0dxm6z_2r80000gn/T/ipykernel_9095/2758724182.py:16: InterpolationWarning: The test statistic is outside of the range of p-values available in the\n",
      "look-up table. The actual p-value is smaller than the p-value returned.\n",
      "\n",
      "  kpss_result = kpss(ts, regression='c', nlags='auto')\n"
     ]
    },
    {
     "data": {
      "text/plain": [
       "{'ADF': {'Test Statistic': np.float64(-1.6546735279482578),\n",
       "  'p-value': np.float64(0.45460419541867575),\n",
       "  'Critical Values': {'1%': np.float64(-3.43346776730731),\n",
       "   '5%': np.float64(-2.8629172977475434),\n",
       "   '10%': np.float64(-2.567503208390023)},\n",
       "  'Stationary': np.False_},\n",
       " 'KPSS': {'Test Statistic': np.float64(1.8107278302233258),\n",
       "  'p-value': np.float64(0.01),\n",
       "  'Critical Values': {'10%': 0.347, '5%': 0.463, '2.5%': 0.574, '1%': 0.739},\n",
       "  'Stationary': np.False_}}"
      ]
     },
     "execution_count": 15,
     "metadata": {},
     "output_type": "execute_result"
    }
   ],
   "source": [
    "dfc3 = pd.read_csv('reuters_data/LME 3 Month Cobalt Composite Commodity Forward .csv', sep=';')\n",
    "dfc3 = dfc3.iloc[:, :2]\n",
    "dfc3 = dfc3.rename(columns={'Close' : 'Price'})\n",
    "dfc3['Date'] = pd.to_datetime(dfc3['Date'], format='%d-%b-%Y')\n",
    "# Clean the 'Price' column by removing non-breaking spaces and replacing commas with dots\n",
    "dfc3['Price'] = dfc3['Price'].str.replace('\\xa0', '').str.replace(',', '.').astype(float)\n",
    "dfc3['Price'] = dfc3['Price']\n",
    "check_stationarity(dfc3['Price'])"
   ]
  },
  {
   "cell_type": "markdown",
   "metadata": {},
   "source": [
    "### LME Cobalt Spot"
   ]
  },
  {
   "cell_type": "code",
   "execution_count": 16,
   "metadata": {},
   "outputs": [
    {
     "name": "stdout",
     "output_type": "stream",
     "text": [
      "\n",
      "Stationarity Test Results:\n",
      "\n",
      "ADF Test:\n",
      "  Test Statistic : -2.1899\n",
      "  p-value        : 0.2099\n",
      "  Stationary     : No\n",
      "\n",
      "KPSS Test:\n",
      "  Test Statistic : 1.1288\n",
      "  p-value        : 0.0100\n",
      "  Stationary     : No\n"
     ]
    },
    {
     "name": "stderr",
     "output_type": "stream",
     "text": [
      "/var/folders/mx/rb01m4j51yzbjz0dxm6z_2r80000gn/T/ipykernel_9095/2758724182.py:16: InterpolationWarning: The test statistic is outside of the range of p-values available in the\n",
      "look-up table. The actual p-value is smaller than the p-value returned.\n",
      "\n",
      "  kpss_result = kpss(ts, regression='c', nlags='auto')\n"
     ]
    },
    {
     "data": {
      "text/plain": [
       "{'ADF': {'Test Statistic': np.float64(-2.1899454780930876),\n",
       "  'p-value': np.float64(0.20991488589487423),\n",
       "  'Critical Values': {'1%': np.float64(-3.4323446429448277),\n",
       "   '5%': np.float64(-2.862421314897806),\n",
       "   '10%': np.float64(-2.567239142377757)},\n",
       "  'Stationary': np.False_},\n",
       " 'KPSS': {'Test Statistic': np.float64(1.1287881055306759),\n",
       "  'p-value': np.float64(0.01),\n",
       "  'Critical Values': {'10%': 0.347, '5%': 0.463, '2.5%': 0.574, '1%': 0.739},\n",
       "  'Stationary': np.False_}}"
      ]
     },
     "execution_count": 16,
     "metadata": {},
     "output_type": "execute_result"
    }
   ],
   "source": [
    "dfc4 = pd.read_csv('/Users/michal/Documents/Code/metals/bloomberg_data/LME Cobalt SPOT.csv', sep=';')\n",
    "dfc4 = dfc4.iloc[:, :2]\n",
    "dfc4 = dfc4.rename(columns={'Close Price' : 'Price'})\n",
    "dfc4['Date'] = pd.to_datetime(dfc4['Date'], format='%m/%d/%y')\n",
    "dfc4 = dfc4.sort_values(by='Date')\n",
    "dfc4['Price'] = dfc4['Price'].str.replace(',', '.').astype(float)\n",
    "dfc4['Price'] = dfc4['Price']\n",
    "check_stationarity(dfc4['Price'])"
   ]
  }
 ],
 "metadata": {
  "kernelspec": {
   "display_name": "metal",
   "language": "python",
   "name": "python3"
  },
  "language_info": {
   "codemirror_mode": {
    "name": "ipython",
    "version": 3
   },
   "file_extension": ".py",
   "mimetype": "text/x-python",
   "name": "python",
   "nbconvert_exporter": "python",
   "pygments_lexer": "ipython3",
   "version": "3.12.2"
  }
 },
 "nbformat": 4,
 "nbformat_minor": 2
}
