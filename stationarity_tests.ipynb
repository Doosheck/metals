{
 "cells": [
  {
   "cell_type": "code",
   "execution_count": 1,
   "metadata": {},
   "outputs": [],
   "source": [
    "from statsmodels.tsa.stattools import adfuller, kpss\n",
    "from arch.unitroot import ZivotAndrews\n",
    "\n",
    "def check_stationarity(ts, significance_level=0.05):\n",
    "    results = {}\n",
    "\n",
    "    # ADF Test\n",
    "    adf_result = adfuller(ts, autolag='AIC')\n",
    "    results['ADF'] = {\n",
    "        'Test Statistic': adf_result[0],\n",
    "        'p-value': adf_result[1],\n",
    "        'Stationary': adf_result[1] < significance_level\n",
    "    }\n",
    "\n",
    "    # KPSS Test\n",
    "    kpss_result = kpss(ts, regression='c', nlags='auto')\n",
    "    results['KPSS'] = {\n",
    "        'Test Statistic': kpss_result[0],\n",
    "        'p-value': kpss_result[1],\n",
    "        'Stationary': kpss_result[1] >= significance_level\n",
    "    }\n",
    "\n",
    "    # Zivot-Andrews Test (accounts for one structural break)\n",
    "    za_result = ZivotAndrews(ts)\n",
    "    results['Zivot-Andrews'] = {\n",
    "        'Test Statistic': za_result.stat,\n",
    "        'p-value': za_result.pvalue,\n",
    "        'Single Structural Break': za_result.pvalue < significance_level\n",
    "    }\n",
    "\n",
    "    # Print summary\n",
    "    print(\"\\nStationarity Test Results:\")\n",
    "    for test, res in results.items():\n",
    "        print(f\"\\n{test} Test:\")\n",
    "        for key, value in res.items():\n",
    "            print(f\"  {key}: {value}\")\n",
    "\n",
    "    return results\n",
    "\n",
    "def calculate_returns(ts):\n",
    "    return ts.pct_change().dropna()\n"
   ]
  },
  {
   "cell_type": "code",
   "execution_count": 3,
   "metadata": {},
   "outputs": [],
   "source": [
    "import pandas as pd\n",
    "# ignore all warnings\n",
    "import warnings\n",
    "warnings.filterwarnings(\"ignore\")"
   ]
  },
  {
   "cell_type": "markdown",
   "metadata": {},
   "source": [
    "# Lithium"
   ]
  },
  {
   "cell_type": "markdown",
   "metadata": {},
   "source": [
    "### Dailymetal"
   ]
  },
  {
   "cell_type": "code",
   "execution_count": 4,
   "metadata": {},
   "outputs": [
    {
     "name": "stdout",
     "output_type": "stream",
     "text": [
      "\n",
      "Stationarity Test Results:\n",
      "\n",
      "ADF Test:\n",
      "  Test Statistic: -1.5641258577352073\n",
      "  p-value: 0.5015848655677647\n",
      "  Stationary: False\n",
      "\n",
      "KPSS Test:\n",
      "  Test Statistic: 1.4899024591110839\n",
      "  p-value: 0.01\n",
      "  Stationary: False\n",
      "\n",
      "Zivot-Andrews Test:\n",
      "  Test Statistic: -2.9619750832486216\n",
      "  p-value: 0.9220852968043515\n",
      "  Single Structural Break: False\n",
      "\n",
      "RETURN STATIONARITY TESTS:\n",
      "\n",
      "Stationarity Test Results:\n",
      "\n",
      "ADF Test:\n",
      "  Test Statistic: -24.734920121574234\n",
      "  p-value: 0.0\n",
      "  Stationary: True\n",
      "\n",
      "KPSS Test:\n",
      "  Test Statistic: 0.25554183900363747\n",
      "  p-value: 0.1\n",
      "  Stationary: True\n",
      "\n",
      "Zivot-Andrews Test:\n",
      "  Test Statistic: -25.06294094541093\n",
      "  p-value: 1e-05\n",
      "  Single Structural Break: True\n"
     ]
    },
    {
     "data": {
      "text/plain": [
       "{'ADF': {'Test Statistic': np.float64(-24.734920121574234),\n",
       "  'p-value': 0.0,\n",
       "  'Stationary': True},\n",
       " 'KPSS': {'Test Statistic': np.float64(0.25554183900363747),\n",
       "  'p-value': np.float64(0.1),\n",
       "  'Stationary': np.True_},\n",
       " 'Zivot-Andrews': {'Test Statistic': -25.06294094541093,\n",
       "  'p-value': 1e-05,\n",
       "  'Single Structural Break': True}}"
      ]
     },
     "execution_count": 4,
     "metadata": {},
     "output_type": "execute_result"
    }
   ],
   "source": [
    "# Load data source #1 - Lithium prices in USD per kilogram\n",
    "df1 = pd.read_csv('/Users/michal/Documents/Code/metals/data/Lithium_prices_2017-01-01_to_2021-12-31_merged.csv')\n",
    "df1['Date'] = pd.to_datetime(df1['Date'])\n",
    "df1['Price'] = df1['Price'].astype(float)\n",
    "df1 = df1.drop(columns=['Unit'])\n",
    "check_stationarity(df1['Price'])\n",
    "\n",
    "# Calculate returns and perform stationarity tests on returns\n",
    "print(\"\\nRETURN STATIONARITY TESTS:\")\n",
    "returns1 = calculate_returns(df1['Price'])\n",
    "check_stationarity(returns1)\n"
   ]
  },
  {
   "cell_type": "markdown",
   "metadata": {},
   "source": [
    "### Sount America LOB - only one datapoint per month"
   ]
  },
  {
   "cell_type": "code",
   "execution_count": 5,
   "metadata": {},
   "outputs": [
    {
     "name": "stdout",
     "output_type": "stream",
     "text": [
      "\n",
      "Stationarity Test Results:\n",
      "\n",
      "ADF Test:\n",
      "  Test Statistic: -2.801613012565535\n",
      "  p-value: 0.05804372985249331\n",
      "  Stationary: False\n",
      "\n",
      "KPSS Test:\n",
      "  Test Statistic: 0.4009568367621315\n",
      "  p-value: 0.07674274277494332\n",
      "  Stationary: True\n",
      "\n",
      "Zivot-Andrews Test:\n",
      "  Test Statistic: -5.010378797457142\n",
      "  p-value: 0.02758398088973847\n",
      "  Single Structural Break: True\n",
      "\n",
      "RETURN STATIONARITY TESTS:\n",
      "\n",
      "Stationarity Test Results:\n",
      "\n",
      "ADF Test:\n",
      "  Test Statistic: -4.236323286778803\n",
      "  p-value: 0.0005715766191350519\n",
      "  Stationary: True\n",
      "\n",
      "KPSS Test:\n",
      "  Test Statistic: 0.23318102088255857\n",
      "  p-value: 0.1\n",
      "  Stationary: True\n",
      "\n",
      "Zivot-Andrews Test:\n",
      "  Test Statistic: -5.15584115573191\n",
      "  p-value: 0.017443147893438763\n",
      "  Single Structural Break: True\n"
     ]
    },
    {
     "data": {
      "text/plain": [
       "{'ADF': {'Test Statistic': np.float64(-4.236323286778803),\n",
       "  'p-value': np.float64(0.0005715766191350519),\n",
       "  'Stationary': np.True_},\n",
       " 'KPSS': {'Test Statistic': np.float64(0.23318102088255857),\n",
       "  'p-value': np.float64(0.1),\n",
       "  'Stationary': np.True_},\n",
       " 'Zivot-Andrews': {'Test Statistic': -5.15584115573191,\n",
       "  'p-value': 0.017443147893438763,\n",
       "  'Single Structural Break': True}}"
      ]
     },
     "execution_count": 5,
     "metadata": {},
     "output_type": "execute_result"
    }
   ],
   "source": [
    "# Load data source #2 - South America LOB\n",
    "df2 = pd.read_csv('/Users/michal/Documents/Code/metals/bloomberg_data/lithium_SouthAmerica_LOB_2017m.csv', sep=';')\n",
    "df2.head()\n",
    "df2['Date'] = pd.to_datetime(df2['Date'])\n",
    "df2['Price'] = df2['Price'].astype(float)\n",
    "df2['Price'] = df2['Price']\n",
    "check_stationarity(df2['Price'])\n",
    "\n",
    "# Calculate returns and perform stationarity tests on returns\n",
    "print(\"\\nRETURN STATIONARITY TESTS:\")\n",
    "returns2 = calculate_returns(df2['Price'])\n",
    "check_stationarity(returns2)\n"
   ]
  },
  {
   "cell_type": "markdown",
   "metadata": {},
   "source": [
    "### COMEX Lithium Hydroxide"
   ]
  },
  {
   "cell_type": "code",
   "execution_count": 6,
   "metadata": {},
   "outputs": [
    {
     "name": "stdout",
     "output_type": "stream",
     "text": [
      "\n",
      "Stationarity Test Results:\n",
      "\n",
      "ADF Test:\n",
      "  Test Statistic: -1.3749187708046746\n",
      "  p-value: 0.5942395744084839\n",
      "  Stationary: False\n",
      "\n",
      "KPSS Test:\n",
      "  Test Statistic: 2.0403114741108404\n",
      "  p-value: 0.01\n",
      "  Stationary: False\n",
      "\n",
      "Zivot-Andrews Test:\n",
      "  Test Statistic: -3.9384096821868138\n",
      "  p-value: 0.38916030362345444\n",
      "  Single Structural Break: False\n",
      "\n",
      "RETURN STATIONARITY TESTS:\n",
      "\n",
      "Stationarity Test Results:\n",
      "\n",
      "ADF Test:\n",
      "  Test Statistic: -3.415322293372285\n",
      "  p-value: 0.010447494657444866\n",
      "  Stationary: True\n",
      "\n",
      "KPSS Test:\n",
      "  Test Statistic: 2.167070817955275\n",
      "  p-value: 0.01\n",
      "  Stationary: False\n",
      "\n",
      "Zivot-Andrews Test:\n",
      "  Test Statistic: -4.993284083499175\n",
      "  p-value: 0.029502751818437742\n",
      "  Single Structural Break: True\n"
     ]
    },
    {
     "data": {
      "text/plain": [
       "{'ADF': {'Test Statistic': np.float64(-3.415322293372285),\n",
       "  'p-value': np.float64(0.010447494657444866),\n",
       "  'Stationary': np.True_},\n",
       " 'KPSS': {'Test Statistic': np.float64(2.167070817955275),\n",
       "  'p-value': np.float64(0.01),\n",
       "  'Stationary': np.False_},\n",
       " 'Zivot-Andrews': {'Test Statistic': -4.993284083499175,\n",
       "  'p-value': 0.029502751818437742,\n",
       "  'Single Structural Break': True}}"
      ]
     },
     "execution_count": 6,
     "metadata": {},
     "output_type": "execute_result"
    }
   ],
   "source": [
    "df3 = pd.read_csv('/Users/michal/Documents/Code/metals/reuters_data/COMEX Lithium Hydroxide CIF CJK (Fastmarkets) Electronic Commodity Future Continuation 1.csv', sep=';')\n",
    "df3 = df3.rename(columns={'Exchange Date': 'Date'})\n",
    "df3 = df3.rename(columns={'Close' : 'Price'})\n",
    "df3['Date'] = pd.to_datetime(df3['Date'], format='%d-%b-%Y')\n",
    "df3 = df3.iloc[:, :4] # Keep only the first 4 columns\n",
    "df3['Price'] = df3['Price'].astype(float)\n",
    "check_stationarity(df3['Price'])\n",
    "\n",
    "# Calculate returns and perform stationarity tests on returns\n",
    "print(\"\\nRETURN STATIONARITY TESTS:\")\n",
    "returns3 = calculate_returns(df3['Price'])\n",
    "check_stationarity(returns3)\n"
   ]
  },
  {
   "cell_type": "markdown",
   "metadata": {},
   "source": [
    "### Lithium Americas Corp"
   ]
  },
  {
   "cell_type": "code",
   "execution_count": 7,
   "metadata": {},
   "outputs": [
    {
     "name": "stdout",
     "output_type": "stream",
     "text": [
      "\n",
      "Stationarity Test Results:\n",
      "\n",
      "ADF Test:\n",
      "  Test Statistic: 0.536872482706402\n",
      "  p-value: 0.9859517495557283\n",
      "  Stationary: False\n",
      "\n",
      "KPSS Test:\n",
      "  Test Statistic: 2.1784415196844087\n",
      "  p-value: 0.01\n",
      "  Stationary: False\n",
      "\n",
      "Zivot-Andrews Test:\n",
      "  Test Statistic: -3.012031494472272\n",
      "  p-value: 0.908210030360275\n",
      "  Single Structural Break: False\n",
      "\n",
      "RETURN STATIONARITY TESTS:\n",
      "\n",
      "Stationarity Test Results:\n",
      "\n",
      "ADF Test:\n",
      "  Test Statistic: -22.047687806952304\n",
      "  p-value: 0.0\n",
      "  Stationary: True\n",
      "\n",
      "KPSS Test:\n",
      "  Test Statistic: 0.23311136620009051\n",
      "  p-value: 0.1\n",
      "  Stationary: True\n",
      "\n",
      "Zivot-Andrews Test:\n",
      "  Test Statistic: -22.37630913346623\n",
      "  p-value: 1e-05\n",
      "  Single Structural Break: True\n"
     ]
    },
    {
     "data": {
      "text/plain": [
       "{'ADF': {'Test Statistic': np.float64(-22.047687806952304),\n",
       "  'p-value': 0.0,\n",
       "  'Stationary': True},\n",
       " 'KPSS': {'Test Statistic': np.float64(0.23311136620009051),\n",
       "  'p-value': np.float64(0.1),\n",
       "  'Stationary': np.True_},\n",
       " 'Zivot-Andrews': {'Test Statistic': -22.37630913346623,\n",
       "  'p-value': 1e-05,\n",
       "  'Single Structural Break': True}}"
      ]
     },
     "execution_count": 7,
     "metadata": {},
     "output_type": "execute_result"
    }
   ],
   "source": [
    "# Load Lithium data source #4 - Lithium Americas Corp\n",
    "df4 = pd.read_csv('/Users/michal/Documents/Code/metals/reuters_data/Lithium Americas Corp.csv', sep=';')\n",
    "df4 = df4.rename(columns={'Exchange Date': 'Date'})\n",
    "df4 = df4.rename(columns={'Close' : 'Price'})\n",
    "df4['Date'] = pd.to_datetime(df4['Date'], format='%d-%b-%Y')\n",
    "df4 = df4.iloc[:, :2] # Keep only the first 2 columns\n",
    "df4['Price'] = df4['Price'].str.replace(',', '.').astype(float)\n",
    "check_stationarity(df4['Price'])\n",
    "\n",
    "# Calculate returns and perform stationarity tests on returns\n",
    "print(\"\\nRETURN STATIONARITY TESTS:\")\n",
    "returns4 = calculate_returns(df4['Price'])\n",
    "check_stationarity(returns4)\n"
   ]
  },
  {
   "cell_type": "markdown",
   "metadata": {},
   "source": [
    "### East Asia Lithium Carbonate 99.5% Swap\n"
   ]
  },
  {
   "cell_type": "code",
   "execution_count": 8,
   "metadata": {},
   "outputs": [
    {
     "name": "stdout",
     "output_type": "stream",
     "text": [
      "\n",
      "Stationarity Test Results:\n",
      "\n",
      "ADF Test:\n",
      "  Test Statistic: -1.4119301166732048\n",
      "  p-value: 0.5765434956089467\n",
      "  Stationary: False\n",
      "\n",
      "KPSS Test:\n",
      "  Test Statistic: 2.810278100153394\n",
      "  p-value: 0.01\n",
      "  Stationary: False\n",
      "\n",
      "Zivot-Andrews Test:\n",
      "  Test Statistic: -5.159925100951825\n",
      "  p-value: 0.01719109399984623\n",
      "  Single Structural Break: True\n",
      "\n",
      "RETURN STATIONARITY TESTS:\n",
      "\n",
      "Stationarity Test Results:\n",
      "\n",
      "ADF Test:\n",
      "  Test Statistic: -4.044234741548588\n",
      "  p-value: 0.001195799162960285\n",
      "  Stationary: True\n",
      "\n",
      "KPSS Test:\n",
      "  Test Statistic: 0.11520112340848424\n",
      "  p-value: 0.1\n",
      "  Stationary: True\n",
      "\n",
      "Zivot-Andrews Test:\n",
      "  Test Statistic: -4.440420389141641\n",
      "  p-value: 0.13840666760407944\n",
      "  Single Structural Break: False\n"
     ]
    },
    {
     "data": {
      "text/plain": [
       "{'ADF': {'Test Statistic': np.float64(-4.044234741548588),\n",
       "  'p-value': np.float64(0.001195799162960285),\n",
       "  'Stationary': np.True_},\n",
       " 'KPSS': {'Test Statistic': np.float64(0.11520112340848424),\n",
       "  'p-value': np.float64(0.1),\n",
       "  'Stationary': np.True_},\n",
       " 'Zivot-Andrews': {'Test Statistic': -4.440420389141641,\n",
       "  'p-value': 0.13840666760407944,\n",
       "  'Single Structural Break': False}}"
      ]
     },
     "execution_count": 8,
     "metadata": {},
     "output_type": "execute_result"
    }
   ],
   "source": [
    "df5 = pd.read_csv('/Users/michal/Documents/Code/metals/bloomberg_data/East Asia Lithium Carbonate 99.5% CIF CJK Financial Swap USD:MT (Fastmarkets) Singapore Exchange SIMEX.csv', sep=';')\n",
    "df5 = df5.iloc[:, :2]\n",
    "df5['Date'] = pd.to_datetime(df5['Date'], format='%m/%d/%y')\n",
    "df5['Close Price'] = df5['Close Price'].str.replace(',', '.').astype(float)\n",
    "df5 = df5.rename(columns={'Close Price': 'Price'})\n",
    "df5 = df5.sort_values(by='Date')\n",
    "check_stationarity(df5['Price'])\n",
    "\n",
    "# Calculate returns and perform stationarity tests on returns\n",
    "print(\"\\nRETURN STATIONARITY TESTS:\")\n",
    "returns5 = calculate_returns(df5['Price'])\n",
    "check_stationarity(returns5)\n"
   ]
  },
  {
   "cell_type": "markdown",
   "metadata": {},
   "source": [
    "### East Asia Lithium Carbonate Battery Grade CIF"
   ]
  },
  {
   "cell_type": "code",
   "execution_count": 9,
   "metadata": {},
   "outputs": [
    {
     "name": "stdout",
     "output_type": "stream",
     "text": [
      "\n",
      "Stationarity Test Results:\n",
      "\n",
      "ADF Test:\n",
      "  Test Statistic: -1.2711015873999292\n",
      "  p-value: 0.6422875180612239\n",
      "  Stationary: False\n",
      "\n",
      "KPSS Test:\n",
      "  Test Statistic: 2.4980152954656782\n",
      "  p-value: 0.01\n",
      "  Stationary: False\n",
      "\n",
      "Zivot-Andrews Test:\n",
      "  Test Statistic: -5.935234592985505\n",
      "  p-value: 0.000892617903353649\n",
      "  Single Structural Break: True\n",
      "\n",
      "RETURN STATIONARITY TESTS:\n",
      "\n",
      "Stationarity Test Results:\n",
      "\n",
      "ADF Test:\n",
      "  Test Statistic: -4.030260327532094\n",
      "  p-value: 0.0012600900962955815\n",
      "  Stationary: True\n",
      "\n",
      "KPSS Test:\n",
      "  Test Statistic: 0.1309650689835693\n",
      "  p-value: 0.1\n",
      "  Stationary: True\n",
      "\n",
      "Zivot-Andrews Test:\n",
      "  Test Statistic: -5.65821829914083\n",
      "  p-value: 0.0022394265432854944\n",
      "  Single Structural Break: True\n"
     ]
    },
    {
     "data": {
      "text/plain": [
       "{'ADF': {'Test Statistic': np.float64(-4.030260327532094),\n",
       "  'p-value': np.float64(0.0012600900962955815),\n",
       "  'Stationary': np.True_},\n",
       " 'KPSS': {'Test Statistic': np.float64(0.1309650689835693),\n",
       "  'p-value': np.float64(0.1),\n",
       "  'Stationary': np.True_},\n",
       " 'Zivot-Andrews': {'Test Statistic': -5.65821829914083,\n",
       "  'p-value': 0.0022394265432854944,\n",
       "  'Single Structural Break': True}}"
      ]
     },
     "execution_count": 9,
     "metadata": {},
     "output_type": "execute_result"
    }
   ],
   "source": [
    "df6 = pd.read_csv('/Users/michal/Documents/Code/metals/bloomberg_data/East Asia Lithium Carbonate China Korea Japan Battery Grade CIF USD:kg Future Singapore Exchange SIMEX.csv', sep=';')\n",
    "df6 = df6.iloc[:, :2]\n",
    "df6['Date'] = pd.to_datetime(df6['Date'], format='%m/%d/%y')\n",
    "df6['Close Price'] = df6['Close Price'].str.replace(',', '.').astype(float)\n",
    "df6 = df6.rename(columns={'Close Price': 'Price'})\n",
    "df6 = df6.sort_values(by='Date')\n",
    "check_stationarity(df6['Price'])\n",
    "\n",
    "# Calculate returns and perform stationarity tests on returns\n",
    "print(\"\\nRETURN STATIONARITY TESTS:\")\n",
    "returns6 = calculate_returns(df6['Price'])\n",
    "check_stationarity(returns6)\n"
   ]
  },
  {
   "cell_type": "markdown",
   "metadata": {},
   "source": [
    "# Nickel"
   ]
  },
  {
   "cell_type": "markdown",
   "metadata": {},
   "source": [
    "### Dailymetal"
   ]
  },
  {
   "cell_type": "code",
   "execution_count": 10,
   "metadata": {},
   "outputs": [
    {
     "name": "stdout",
     "output_type": "stream",
     "text": [
      "\n",
      "Stationarity Test Results:\n",
      "\n",
      "ADF Test:\n",
      "  Test Statistic: -2.024108062720395\n",
      "  p-value: 0.276103604099189\n",
      "  Stationary: False\n",
      "\n",
      "KPSS Test:\n",
      "  Test Statistic: 3.9175557747830787\n",
      "  p-value: 0.01\n",
      "  Stationary: False\n",
      "\n",
      "Zivot-Andrews Test:\n",
      "  Test Statistic: -3.480420552639711\n",
      "  p-value: 0.6922784838077399\n",
      "  Single Structural Break: False\n",
      "\n",
      "RETURN STATIONARITY TESTS:\n",
      "\n",
      "Stationarity Test Results:\n",
      "\n",
      "ADF Test:\n",
      "  Test Statistic: -15.3311725358978\n",
      "  p-value: 3.9439491774945013e-28\n",
      "  Stationary: True\n",
      "\n",
      "KPSS Test:\n",
      "  Test Statistic: 0.0631432825378317\n",
      "  p-value: 0.1\n",
      "  Stationary: True\n",
      "\n",
      "Zivot-Andrews Test:\n",
      "  Test Statistic: -15.646833731971098\n",
      "  p-value: 1e-05\n",
      "  Single Structural Break: True\n"
     ]
    },
    {
     "data": {
      "text/plain": [
       "{'ADF': {'Test Statistic': np.float64(-15.3311725358978),\n",
       "  'p-value': np.float64(3.9439491774945013e-28),\n",
       "  'Stationary': np.True_},\n",
       " 'KPSS': {'Test Statistic': np.float64(0.0631432825378317),\n",
       "  'p-value': np.float64(0.1),\n",
       "  'Stationary': np.True_},\n",
       " 'Zivot-Andrews': {'Test Statistic': -15.646833731971098,\n",
       "  'p-value': 1e-05,\n",
       "  'Single Structural Break': True}}"
      ]
     },
     "execution_count": 10,
     "metadata": {},
     "output_type": "execute_result"
    }
   ],
   "source": [
    "dfn1 = pd.read_csv('/Users/michal/Documents/Code/metals/data/Nickel_prices_2017-01-01_to_2024-12-31_merged.csv')\n",
    "dfn1['Date'] = pd.to_datetime(dfn1['Date'])\n",
    "dfn1['Price'] = dfn1['Price'].astype(float)\n",
    "dfn1 = dfn1.drop(columns=['Unit'])\n",
    "dfn1 = dfn1.drop_duplicates(subset=['Date'])\n",
    "check_stationarity(dfn1['Price'])\n",
    "\n",
    "# Calculate returns and perform stationarity tests on returns\n",
    "print(\"\\nRETURN STATIONARITY TESTS:\")\n",
    "returnsn1 = calculate_returns(dfn1['Price'])\n",
    "check_stationarity(returnsn1)\n"
   ]
  },
  {
   "cell_type": "markdown",
   "metadata": {},
   "source": [
    "### LME"
   ]
  },
  {
   "cell_type": "code",
   "execution_count": 11,
   "metadata": {},
   "outputs": [
    {
     "name": "stdout",
     "output_type": "stream",
     "text": [
      "\n",
      "Stationarity Test Results:\n",
      "\n",
      "ADF Test:\n",
      "  Test Statistic: -1.9793919418904973\n",
      "  p-value: 0.2956814660478649\n",
      "  Stationary: False\n",
      "\n",
      "KPSS Test:\n",
      "  Test Statistic: 3.954280341348328\n",
      "  p-value: 0.01\n",
      "  Stationary: False\n",
      "\n",
      "Zivot-Andrews Test:\n",
      "  Test Statistic: -3.5574171433470863\n",
      "  p-value: 0.6423024494122141\n",
      "  Single Structural Break: False\n",
      "\n",
      "RETURN STATIONARITY TESTS:\n",
      "\n",
      "Stationarity Test Results:\n",
      "\n",
      "ADF Test:\n",
      "  Test Statistic: -17.092213313027145\n",
      "  p-value: 7.576973169145684e-30\n",
      "  Stationary: True\n",
      "\n",
      "KPSS Test:\n",
      "  Test Statistic: 0.1020000902098896\n",
      "  p-value: 0.1\n",
      "  Stationary: True\n",
      "\n",
      "Zivot-Andrews Test:\n",
      "  Test Statistic: -17.352088253481444\n",
      "  p-value: 1e-05\n",
      "  Single Structural Break: True\n"
     ]
    },
    {
     "data": {
      "text/plain": [
       "{'ADF': {'Test Statistic': np.float64(-17.092213313027145),\n",
       "  'p-value': np.float64(7.576973169145684e-30),\n",
       "  'Stationary': np.True_},\n",
       " 'KPSS': {'Test Statistic': np.float64(0.1020000902098896),\n",
       "  'p-value': np.float64(0.1),\n",
       "  'Stationary': np.True_},\n",
       " 'Zivot-Andrews': {'Test Statistic': -17.352088253481444,\n",
       "  'p-value': 1e-05,\n",
       "  'Single Structural Break': True}}"
      ]
     },
     "execution_count": 11,
     "metadata": {},
     "output_type": "execute_result"
    }
   ],
   "source": [
    "dfn2 = pd.read_csv('/Users/michal/Documents/Code/metals/bloomberg_data/nickel_HLOC_2017_2024.csv', sep=';')\n",
    "dfn2['Date'] = pd.to_datetime(dfn2['Date'], dayfirst=True)\n",
    "dfn2 = dfn2.rename(columns={'PX_LAST': 'Price'})\n",
    "dfn2['Price'] = dfn2['Price'].astype(float)\n",
    "dfn2 = dfn2.drop(index=0)\n",
    "dfn2 = dfn2.sort_values(by='Date')\n",
    "dfn2 = dfn2.iloc[:, :2] \n",
    "check_stationarity(dfn2['Price'])\n",
    "\n",
    "# Calculate returns and perform stationarity tests on returns\n",
    "print(\"\\nRETURN STATIONARITY TESTS:\")\n",
    "returnsn2 = calculate_returns(dfn2['Price'])\n",
    "check_stationarity(returnsn2)\n"
   ]
  },
  {
   "cell_type": "markdown",
   "metadata": {},
   "source": [
    "### Nickel Miners ETF"
   ]
  },
  {
   "cell_type": "code",
   "execution_count": 12,
   "metadata": {},
   "outputs": [
    {
     "name": "stdout",
     "output_type": "stream",
     "text": [
      "\n",
      "Stationarity Test Results:\n",
      "\n",
      "ADF Test:\n",
      "  Test Statistic: -1.008896678084903\n",
      "  p-value: 0.7500056272672931\n",
      "  Stationary: False\n",
      "\n",
      "KPSS Test:\n",
      "  Test Statistic: 3.027208488491869\n",
      "  p-value: 0.01\n",
      "  Stationary: False\n",
      "\n",
      "Zivot-Andrews Test:\n",
      "  Test Statistic: -3.4005893887505985\n",
      "  p-value: 0.7408241799455212\n",
      "  Single Structural Break: False\n",
      "\n",
      "RETURN STATIONARITY TESTS:\n",
      "\n",
      "Stationarity Test Results:\n",
      "\n",
      "ADF Test:\n",
      "  Test Statistic: -23.093580891363825\n",
      "  p-value: 0.0\n",
      "  Stationary: True\n",
      "\n",
      "KPSS Test:\n",
      "  Test Statistic: 0.06769584212530828\n",
      "  p-value: 0.1\n",
      "  Stationary: True\n",
      "\n",
      "Zivot-Andrews Test:\n",
      "  Test Statistic: -23.191892094196835\n",
      "  p-value: 1e-05\n",
      "  Single Structural Break: True\n"
     ]
    },
    {
     "data": {
      "text/plain": [
       "{'ADF': {'Test Statistic': np.float64(-23.093580891363825),\n",
       "  'p-value': 0.0,\n",
       "  'Stationary': True},\n",
       " 'KPSS': {'Test Statistic': np.float64(0.06769584212530828),\n",
       "  'p-value': np.float64(0.1),\n",
       "  'Stationary': np.True_},\n",
       " 'Zivot-Andrews': {'Test Statistic': -23.191892094196835,\n",
       "  'p-value': 1e-05,\n",
       "  'Single Structural Break': True}}"
      ]
     },
     "execution_count": 12,
     "metadata": {},
     "output_type": "execute_result"
    }
   ],
   "source": [
    "dfn3 = pd.read_csv('/Users/michal/Documents/Code/metals/reuters_data/Sprott Nickel Prices ETF.csv', sep=';')\n",
    "dfn3 = dfn3.rename(columns={'Exchange Date': 'Date'})\n",
    "dfn3 = dfn3.rename(columns={'Close' : 'Price'})\n",
    "dfn3['Date'] = pd.to_datetime(dfn3['Date'], format='%d-%b-%Y')\n",
    "dfn3['Price'] = dfn3['Price'].str.replace(',', '.').astype(float)\n",
    "check_stationarity(dfn3['Price'])\n",
    "\n",
    "# Calculate returns and perform stationarity tests on returns\n",
    "print(\"\\nRETURN STATIONARITY TESTS:\")\n",
    "returnsn3 = calculate_returns(dfn3['Price'])\n",
    "check_stationarity(returnsn3)\n"
   ]
  },
  {
   "cell_type": "markdown",
   "metadata": {},
   "source": [
    "# Cobalt"
   ]
  },
  {
   "cell_type": "markdown",
   "metadata": {},
   "source": [
    "### Dailymetal"
   ]
  },
  {
   "cell_type": "code",
   "execution_count": 13,
   "metadata": {},
   "outputs": [
    {
     "name": "stdout",
     "output_type": "stream",
     "text": [
      "\n",
      "Stationarity Test Results:\n",
      "\n",
      "ADF Test:\n",
      "  Test Statistic: -1.9072697691205844\n",
      "  p-value: 0.32864894846552756\n",
      "  Stationary: False\n",
      "\n",
      "KPSS Test:\n",
      "  Test Statistic: 1.478034241295779\n",
      "  p-value: 0.01\n",
      "  Stationary: False\n",
      "\n",
      "Zivot-Andrews Test:\n",
      "  Test Statistic: -4.018501768829882\n",
      "  p-value: 0.3409805099203178\n",
      "  Single Structural Break: False\n",
      "\n",
      "RETURN STATIONARITY TESTS:\n",
      "\n",
      "Stationarity Test Results:\n",
      "\n",
      "ADF Test:\n",
      "  Test Statistic: -14.248385508832918\n",
      "  p-value: 1.4957247751176687e-26\n",
      "  Stationary: True\n",
      "\n",
      "KPSS Test:\n",
      "  Test Statistic: 0.358820901243933\n",
      "  p-value: 0.0949047839465806\n",
      "  Stationary: True\n",
      "\n",
      "Zivot-Andrews Test:\n",
      "  Test Statistic: -14.598181174257379\n",
      "  p-value: 1e-05\n",
      "  Single Structural Break: True\n"
     ]
    },
    {
     "data": {
      "text/plain": [
       "{'ADF': {'Test Statistic': np.float64(-14.248385508832918),\n",
       "  'p-value': np.float64(1.4957247751176687e-26),\n",
       "  'Stationary': np.True_},\n",
       " 'KPSS': {'Test Statistic': np.float64(0.358820901243933),\n",
       "  'p-value': np.float64(0.0949047839465806),\n",
       "  'Stationary': np.True_},\n",
       " 'Zivot-Andrews': {'Test Statistic': -14.598181174257379,\n",
       "  'p-value': 1e-05,\n",
       "  'Single Structural Break': True}}"
      ]
     },
     "execution_count": 13,
     "metadata": {},
     "output_type": "execute_result"
    }
   ],
   "source": [
    "dfc1 = pd.read_csv('/Users/michal/Documents/Code/metals/data/Cobalt_prices_2017-01-01_to_2024-12-31_merged.csv')\n",
    "dfc1['Date'] = pd.to_datetime(dfc1['Date'])\n",
    "dfc1['Price'] = dfc1['Price'].astype(float)\n",
    "dfc1 = dfc1.drop(columns=['Unit'])\n",
    "dfc1 = dfc1.drop_duplicates(subset=['Date'])\n",
    "dfc1 = dfc1.sort_values(by='Date')\n",
    "check_stationarity(dfc1['Price'])\n",
    "\n",
    "# Calculate returns and perform stationarity tests on returns\n",
    "print(\"\\nRETURN STATIONARITY TESTS:\")\n",
    "returnsc1 = calculate_returns(dfc1['Price'])\n",
    "check_stationarity(returnsc1)\n"
   ]
  },
  {
   "cell_type": "markdown",
   "metadata": {},
   "source": [
    "### LME"
   ]
  },
  {
   "cell_type": "code",
   "execution_count": 14,
   "metadata": {},
   "outputs": [
    {
     "name": "stdout",
     "output_type": "stream",
     "text": [
      "\n",
      "Stationarity Test Results:\n",
      "\n",
      "ADF Test:\n",
      "  Test Statistic: -1.4639939818412788\n",
      "  p-value: 0.5512419114902566\n",
      "  Stationary: False\n",
      "\n",
      "KPSS Test:\n",
      "  Test Statistic: 1.553557705467809\n",
      "  p-value: 0.01\n",
      "  Stationary: False\n",
      "\n",
      "Zivot-Andrews Test:\n",
      "  Test Statistic: -3.760857556238538\n",
      "  p-value: 0.5061829171647448\n",
      "  Single Structural Break: False\n",
      "\n",
      "RETURN STATIONARITY TESTS:\n",
      "\n",
      "Stationarity Test Results:\n",
      "\n",
      "ADF Test:\n",
      "  Test Statistic: -12.248312266465716\n",
      "  p-value: 9.669110346771663e-23\n",
      "  Stationary: True\n",
      "\n",
      "KPSS Test:\n",
      "  Test Statistic: 0.3364182973154551\n",
      "  p-value: 0.1\n",
      "  Stationary: True\n",
      "\n",
      "Zivot-Andrews Test:\n",
      "  Test Statistic: -12.633093965291874\n",
      "  p-value: 1e-05\n",
      "  Single Structural Break: True\n"
     ]
    },
    {
     "data": {
      "text/plain": [
       "{'ADF': {'Test Statistic': np.float64(-12.248312266465716),\n",
       "  'p-value': np.float64(9.669110346771663e-23),\n",
       "  'Stationary': np.True_},\n",
       " 'KPSS': {'Test Statistic': np.float64(0.3364182973154551),\n",
       "  'p-value': np.float64(0.1),\n",
       "  'Stationary': np.True_},\n",
       " 'Zivot-Andrews': {'Test Statistic': -12.633093965291874,\n",
       "  'p-value': 1e-05,\n",
       "  'Single Structural Break': True}}"
      ]
     },
     "execution_count": 14,
     "metadata": {},
     "output_type": "execute_result"
    }
   ],
   "source": [
    "dfc2 = pd.read_csv('/Users/michal/Documents/Code/metals/bloomberg_data/cobalt_HLOC_2017_2024.csv', sep=';')\n",
    "dfc2['Date'] = pd.to_datetime(dfc2['Date'], dayfirst=True)\n",
    "dfc2 = dfc2.rename(columns={'PX_LAST': 'Price'})\n",
    "# Replace commas with dots and convert the 'Price' column to float\n",
    "dfc2['Price'] = dfc2['Price'].str.replace(',', '.').astype(float)\n",
    "dfc2 = dfc2.drop(index=0)\n",
    "dfc2 = dfc2.sort_values(by='Date')\n",
    "dfc2 = dfc2.iloc[:, :2]\n",
    "dfc2['Price'] = dfc2['Price']\n",
    "check_stationarity(dfc2['Price'])\n",
    "\n",
    "# Calculate returns and perform stationarity tests on returns\n",
    "print(\"\\nRETURN STATIONARITY TESTS:\")\n",
    "returnsc2 = calculate_returns(dfc2['Price'])\n",
    "check_stationarity(returnsc2)\n"
   ]
  },
  {
   "cell_type": "markdown",
   "metadata": {},
   "source": [
    "### LME 3M Forward"
   ]
  },
  {
   "cell_type": "code",
   "execution_count": 15,
   "metadata": {},
   "outputs": [
    {
     "name": "stdout",
     "output_type": "stream",
     "text": [
      "\n",
      "Stationarity Test Results:\n",
      "\n",
      "ADF Test:\n",
      "  Test Statistic: -1.6546735279482578\n",
      "  p-value: 0.45460419541867575\n",
      "  Stationary: False\n",
      "\n",
      "KPSS Test:\n",
      "  Test Statistic: 1.8107278302233258\n",
      "  p-value: 0.01\n",
      "  Stationary: False\n",
      "\n",
      "Zivot-Andrews Test:\n",
      "  Test Statistic: -3.631765081874705\n",
      "  p-value: 0.593194427393946\n",
      "  Single Structural Break: False\n",
      "\n",
      "RETURN STATIONARITY TESTS:\n",
      "\n",
      "Stationarity Test Results:\n",
      "\n",
      "ADF Test:\n",
      "  Test Statistic: -12.567756125061464\n",
      "  p-value: 2.0356932348814073e-23\n",
      "  Stationary: True\n",
      "\n",
      "KPSS Test:\n",
      "  Test Statistic: 0.18375090783015388\n",
      "  p-value: 0.1\n",
      "  Stationary: True\n",
      "\n",
      "Zivot-Andrews Test:\n",
      "  Test Statistic: -12.827621943330065\n",
      "  p-value: 1e-05\n",
      "  Single Structural Break: True\n"
     ]
    },
    {
     "data": {
      "text/plain": [
       "{'ADF': {'Test Statistic': np.float64(-12.567756125061464),\n",
       "  'p-value': np.float64(2.0356932348814073e-23),\n",
       "  'Stationary': np.True_},\n",
       " 'KPSS': {'Test Statistic': np.float64(0.18375090783015388),\n",
       "  'p-value': np.float64(0.1),\n",
       "  'Stationary': np.True_},\n",
       " 'Zivot-Andrews': {'Test Statistic': -12.827621943330065,\n",
       "  'p-value': 1e-05,\n",
       "  'Single Structural Break': True}}"
      ]
     },
     "execution_count": 15,
     "metadata": {},
     "output_type": "execute_result"
    }
   ],
   "source": [
    "dfc3 = pd.read_csv('reuters_data/LME 3 Month Cobalt Composite Commodity Forward .csv', sep=';')\n",
    "dfc3 = dfc3.iloc[:, :2]\n",
    "dfc3 = dfc3.rename(columns={'Close' : 'Price'})\n",
    "dfc3['Date'] = pd.to_datetime(dfc3['Date'], format='%d-%b-%Y')\n",
    "# Clean the 'Price' column by removing non-breaking spaces and replacing commas with dots\n",
    "dfc3['Price'] = dfc3['Price'].str.replace('\\xa0', '').str.replace(',', '.').astype(float)\n",
    "dfc3['Price'] = dfc3['Price']\n",
    "check_stationarity(dfc3['Price'])\n",
    "\n",
    "# Calculate returns and perform stationarity tests on returns\n",
    "print(\"\\nRETURN STATIONARITY TESTS:\")\n",
    "returnsc3 = calculate_returns(dfc3['Price'])\n",
    "check_stationarity(returnsc3)\n"
   ]
  },
  {
   "cell_type": "markdown",
   "metadata": {},
   "source": [
    "### LME Cobalt Spot"
   ]
  },
  {
   "cell_type": "code",
   "execution_count": 16,
   "metadata": {},
   "outputs": [
    {
     "name": "stdout",
     "output_type": "stream",
     "text": [
      "\n",
      "Stationarity Test Results:\n",
      "\n",
      "ADF Test:\n",
      "  Test Statistic: -2.1899454780930876\n",
      "  p-value: 0.20991488589487423\n",
      "  Stationary: False\n",
      "\n",
      "KPSS Test:\n",
      "  Test Statistic: 1.1287881055306759\n",
      "  p-value: 0.01\n",
      "  Stationary: False\n",
      "\n",
      "Zivot-Andrews Test:\n",
      "  Test Statistic: -3.141912092921895\n",
      "  p-value: 0.8633196411348887\n",
      "  Single Structural Break: False\n",
      "\n",
      "RETURN STATIONARITY TESTS:\n",
      "\n",
      "Stationarity Test Results:\n",
      "\n",
      "ADF Test:\n",
      "  Test Statistic: -16.9379154536106\n",
      "  p-value: 9.666514706471837e-30\n",
      "  Stationary: True\n",
      "\n",
      "KPSS Test:\n",
      "  Test Statistic: 0.10350020790361823\n",
      "  p-value: 0.1\n",
      "  Stationary: True\n",
      "\n",
      "Zivot-Andrews Test:\n",
      "  Test Statistic: -17.212731251328574\n",
      "  p-value: 1e-05\n",
      "  Single Structural Break: True\n"
     ]
    },
    {
     "data": {
      "text/plain": [
       "{'ADF': {'Test Statistic': np.float64(-16.9379154536106),\n",
       "  'p-value': np.float64(9.666514706471837e-30),\n",
       "  'Stationary': np.True_},\n",
       " 'KPSS': {'Test Statistic': np.float64(0.10350020790361823),\n",
       "  'p-value': np.float64(0.1),\n",
       "  'Stationary': np.True_},\n",
       " 'Zivot-Andrews': {'Test Statistic': -17.212731251328574,\n",
       "  'p-value': 1e-05,\n",
       "  'Single Structural Break': True}}"
      ]
     },
     "execution_count": 16,
     "metadata": {},
     "output_type": "execute_result"
    }
   ],
   "source": [
    "dfc4 = pd.read_csv('/Users/michal/Documents/Code/metals/bloomberg_data/LME Cobalt SPOT.csv', sep=';')\n",
    "dfc4 = dfc4.iloc[:, :2]\n",
    "dfc4 = dfc4.rename(columns={'Close Price' : 'Price'})\n",
    "dfc4['Date'] = pd.to_datetime(dfc4['Date'], format='%m/%d/%y')\n",
    "dfc4 = dfc4.sort_values(by='Date')\n",
    "dfc4['Price'] = dfc4['Price'].str.replace(',', '.').astype(float)\n",
    "dfc4['Price'] = dfc4['Price']\n",
    "check_stationarity(dfc4['Price'])\n",
    "\n",
    "# Calculate returns and perform stationarity tests on returns\n",
    "print(\"\\nRETURN STATIONARITY TESTS:\")\n",
    "returnsc4 = calculate_returns(dfc4['Price'])\n",
    "check_stationarity(returnsc4)\n"
   ]
  },
  {
   "cell_type": "markdown",
   "metadata": {},
   "source": [
    "# Copper"
   ]
  },
  {
   "cell_type": "markdown",
   "metadata": {},
   "source": [
    "### Dailymetal"
   ]
  },
  {
   "cell_type": "code",
   "execution_count": 17,
   "metadata": {},
   "outputs": [
    {
     "name": "stdout",
     "output_type": "stream",
     "text": [
      "\n",
      "Stationarity Test Results:\n",
      "\n",
      "ADF Test:\n",
      "  Test Statistic: -1.698324384213141\n",
      "  p-value: 0.43197601067784164\n",
      "  Stationary: False\n",
      "\n",
      "KPSS Test:\n",
      "  Test Statistic: 4.676444034455401\n",
      "  p-value: 0.01\n",
      "  Stationary: False\n",
      "\n",
      "Zivot-Andrews Test:\n",
      "  Test Statistic: -4.1480254750579375\n",
      "  p-value: 0.2660047181973263\n",
      "  Single Structural Break: False\n",
      "\n",
      "RETURN STATIONARITY TESTS:\n",
      "\n",
      "Stationarity Test Results:\n",
      "\n",
      "ADF Test:\n",
      "  Test Statistic: -34.76160704632396\n",
      "  p-value: 0.0\n",
      "  Stationary: True\n",
      "\n",
      "KPSS Test:\n",
      "  Test Statistic: 0.061286401283823386\n",
      "  p-value: 0.1\n",
      "  Stationary: True\n",
      "\n",
      "Zivot-Andrews Test:\n",
      "  Test Statistic: -34.96004896322091\n",
      "  p-value: 1e-05\n",
      "  Single Structural Break: True\n"
     ]
    },
    {
     "data": {
      "text/plain": [
       "{'ADF': {'Test Statistic': np.float64(-34.76160704632396),\n",
       "  'p-value': 0.0,\n",
       "  'Stationary': True},\n",
       " 'KPSS': {'Test Statistic': np.float64(0.061286401283823386),\n",
       "  'p-value': np.float64(0.1),\n",
       "  'Stationary': np.True_},\n",
       " 'Zivot-Andrews': {'Test Statistic': -34.96004896322091,\n",
       "  'p-value': 1e-05,\n",
       "  'Single Structural Break': True}}"
      ]
     },
     "execution_count": 17,
     "metadata": {},
     "output_type": "execute_result"
    }
   ],
   "source": [
    "dfcu1 = pd.read_csv('/Users/michal/Documents/Code/metals/data/Copper_prices_2017-01-01_to_2024-12-31_merged.csv')\n",
    "dfcu1['Date'] = pd.to_datetime(dfcu1['Date'])\n",
    "dfcu1['Price'] = dfcu1['Price'].astype(float)\n",
    "dfcu1 = dfcu1.drop(columns=['Unit'])\n",
    "dfcu1 = dfcu1.drop_duplicates(subset=['Date'])\n",
    "dfcu1 = dfcu1.sort_values(by='Date')\n",
    "check_stationarity(dfcu1['Price'])\n",
    "\n",
    "# Calculate returns and perform stationarity tests on returns\n",
    "print(\"\\nRETURN STATIONARITY TESTS:\")\n",
    "returnscu1 = calculate_returns(dfcu1['Price'])\n",
    "check_stationarity(returnscu1)\n"
   ]
  },
  {
   "cell_type": "markdown",
   "metadata": {},
   "source": [
    "### COMEX 1M Future"
   ]
  },
  {
   "cell_type": "code",
   "execution_count": 18,
   "metadata": {},
   "outputs": [
    {
     "name": "stdout",
     "output_type": "stream",
     "text": [
      "\n",
      "Stationarity Test Results:\n",
      "\n",
      "ADF Test:\n",
      "  Test Statistic: -1.5845426300432077\n",
      "  p-value: 0.4913534548083358\n",
      "  Stationary: False\n",
      "\n",
      "KPSS Test:\n",
      "  Test Statistic: 4.953365998330207\n",
      "  p-value: 0.01\n",
      "  Stationary: False\n",
      "\n",
      "Zivot-Andrews Test:\n",
      "  Test Statistic: -4.1768807496149405\n",
      "  p-value: 0.2507502909627086\n",
      "  Single Structural Break: False\n",
      "\n",
      "RETURN STATIONARITY TESTS:\n",
      "\n",
      "Stationarity Test Results:\n",
      "\n",
      "ADF Test:\n",
      "  Test Statistic: -46.67378003944008\n",
      "  p-value: 0.0\n",
      "  Stationary: True\n",
      "\n",
      "KPSS Test:\n",
      "  Test Statistic: 0.04224247721338611\n",
      "  p-value: 0.1\n",
      "  Stationary: True\n",
      "\n",
      "Zivot-Andrews Test:\n",
      "  Test Statistic: -46.77971166662611\n",
      "  p-value: 1e-05\n",
      "  Single Structural Break: True\n"
     ]
    },
    {
     "data": {
      "text/plain": [
       "{'ADF': {'Test Statistic': np.float64(-46.67378003944008),\n",
       "  'p-value': 0.0,\n",
       "  'Stationary': True},\n",
       " 'KPSS': {'Test Statistic': np.float64(0.04224247721338611),\n",
       "  'p-value': np.float64(0.1),\n",
       "  'Stationary': np.True_},\n",
       " 'Zivot-Andrews': {'Test Statistic': -46.77971166662611,\n",
       "  'p-value': 1e-05,\n",
       "  'Single Structural Break': True}}"
      ]
     },
     "execution_count": 18,
     "metadata": {},
     "output_type": "execute_result"
    }
   ],
   "source": [
    "dfcu2 = pd.read_csv('/Users/michal/Documents/Code/metals/reuters_data/COMEX Copper Electronic Commodity Future Continuation 1.csv', sep=';')\n",
    "dfcu2 = dfcu2.rename(columns={'Exchange Date': 'Date'})\n",
    "dfcu2 = dfcu2.rename(columns={'Close' : 'Price'})\n",
    "dfcu2['Date'] = pd.to_datetime(dfcu2['Date'], format='%d-%b-%Y')\n",
    "dfcu2['Price'] = dfcu2['Price'].str.replace(',', '.').astype(float)\n",
    "dfcu2 = dfcu2.sort_values(by='Date')\n",
    "check_stationarity(dfcu2['Price'])\n",
    "\n",
    "# Calculate returns and perform stationarity tests on returns\n",
    "print(\"\\nRETURN STATIONARITY TESTS:\")\n",
    "returnscu2 = calculate_returns(dfcu2['Price'])\n",
    "check_stationarity(returnscu2)\n"
   ]
  },
  {
   "cell_type": "markdown",
   "metadata": {},
   "source": [
    "### LME 3M Copper Composite Forward"
   ]
  },
  {
   "cell_type": "code",
   "execution_count": 19,
   "metadata": {},
   "outputs": [
    {
     "name": "stdout",
     "output_type": "stream",
     "text": [
      "\n",
      "Stationarity Test Results:\n",
      "\n",
      "ADF Test:\n",
      "  Test Statistic: -1.5804017986661214\n",
      "  p-value: 0.49343040674866395\n",
      "  Stationary: False\n",
      "\n",
      "KPSS Test:\n",
      "  Test Statistic: 4.929534020980885\n",
      "  p-value: 0.01\n",
      "  Stationary: False\n",
      "\n",
      "Zivot-Andrews Test:\n",
      "  Test Statistic: -4.169579116390081\n",
      "  p-value: 0.25461032121480165\n",
      "  Single Structural Break: False\n",
      "\n",
      "RETURN STATIONARITY TESTS:\n",
      "\n",
      "Stationarity Test Results:\n",
      "\n",
      "ADF Test:\n",
      "  Test Statistic: -47.239934091974646\n",
      "  p-value: 0.0\n",
      "  Stationary: True\n",
      "\n",
      "KPSS Test:\n",
      "  Test Statistic: 0.05475163616487839\n",
      "  p-value: 0.1\n",
      "  Stationary: True\n",
      "\n",
      "Zivot-Andrews Test:\n",
      "  Test Statistic: -47.41580783598713\n",
      "  p-value: 1e-05\n",
      "  Single Structural Break: True\n"
     ]
    },
    {
     "data": {
      "text/plain": [
       "{'ADF': {'Test Statistic': np.float64(-47.239934091974646),\n",
       "  'p-value': 0.0,\n",
       "  'Stationary': True},\n",
       " 'KPSS': {'Test Statistic': np.float64(0.05475163616487839),\n",
       "  'p-value': np.float64(0.1),\n",
       "  'Stationary': np.True_},\n",
       " 'Zivot-Andrews': {'Test Statistic': -47.41580783598713,\n",
       "  'p-value': 1e-05,\n",
       "  'Single Structural Break': True}}"
      ]
     },
     "execution_count": 19,
     "metadata": {},
     "output_type": "execute_result"
    }
   ],
   "source": [
    "dfcu3 = pd.read_csv('/Users/michal/Documents/Code/metals/reuters_data/LME 3M Copper Composite Commodity Forward.csv', sep=';')\n",
    "dfcu3 = dfcu3.rename(columns={'Exchange Date': 'Date'})\n",
    "dfcu3 = dfcu3.rename(columns={'Close' : 'Price'})\n",
    "dfcu3['Date'] = pd.to_datetime(dfcu3['Date'], format='%d-%b-%Y')\n",
    "dfcu3['Price'] = dfcu3['Price'].str.replace('\\xa0', '').str.replace(',', '.').astype(float)\n",
    "dfcu3 = dfcu3.sort_values(by='Date')\n",
    "check_stationarity(dfcu3['Price'])\n",
    "\n",
    "# Calculate returns and perform stationarity tests on returns\n",
    "print(\"\\nRETURN STATIONARITY TESTS:\")\n",
    "returnscu3 = calculate_returns(dfcu3['Price'])\n",
    "check_stationarity(returnscu3)\n"
   ]
  },
  {
   "cell_type": "markdown",
   "metadata": {},
   "source": [
    "### SMM Guixi Copper"
   ]
  },
  {
   "cell_type": "code",
   "execution_count": 20,
   "metadata": {},
   "outputs": [
    {
     "name": "stdout",
     "output_type": "stream",
     "text": [
      "\n",
      "Stationarity Test Results:\n",
      "\n",
      "ADF Test:\n",
      "  Test Statistic: -1.156141309896793\n",
      "  p-value: 0.6921725415109333\n",
      "  Stationary: False\n",
      "\n",
      "KPSS Test:\n",
      "  Test Statistic: 5.690379192801511\n",
      "  p-value: 0.01\n",
      "  Stationary: False\n",
      "\n",
      "Zivot-Andrews Test:\n",
      "  Test Statistic: -4.207276109945737\n",
      "  p-value: 0.23507309399045057\n",
      "  Single Structural Break: False\n",
      "\n",
      "RETURN STATIONARITY TESTS:\n",
      "\n",
      "Stationarity Test Results:\n",
      "\n",
      "ADF Test:\n",
      "  Test Statistic: -21.540184824411494\n",
      "  p-value: 0.0\n",
      "  Stationary: True\n",
      "\n",
      "KPSS Test:\n",
      "  Test Statistic: 0.07421220105248388\n",
      "  p-value: 0.1\n",
      "  Stationary: True\n",
      "\n",
      "Zivot-Andrews Test:\n",
      "  Test Statistic: -21.845331667940986\n",
      "  p-value: 1e-05\n",
      "  Single Structural Break: True\n"
     ]
    },
    {
     "data": {
      "text/plain": [
       "{'ADF': {'Test Statistic': np.float64(-21.540184824411494),\n",
       "  'p-value': 0.0,\n",
       "  'Stationary': True},\n",
       " 'KPSS': {'Test Statistic': np.float64(0.07421220105248388),\n",
       "  'p-value': np.float64(0.1),\n",
       "  'Stationary': np.True_},\n",
       " 'Zivot-Andrews': {'Test Statistic': -21.845331667940986,\n",
       "  'p-value': 1e-05,\n",
       "  'Single Structural Break': True}}"
      ]
     },
     "execution_count": 20,
     "metadata": {},
     "output_type": "execute_result"
    }
   ],
   "source": [
    "dfcu4 = pd.read_csv('/Users/michal/Documents/Code/metals/reuters_data/SMM Guixi Copper .csv', sep=';')\n",
    "dfcu4 = dfcu4.rename(columns={'Exchange Date': 'Date'})\n",
    "dfcu4 = dfcu4.rename(columns={'Close' : 'Price'})\n",
    "dfcu4['Date'] = pd.to_datetime(dfcu4['Date'], format='%d-%b-%Y')\n",
    "dfcu4['Price'] = dfcu4['Trade Price'].str.replace('\\xa0', '').str.replace(',', '.').astype(float)\n",
    "dfcu4 = dfcu4.drop(index=0)\n",
    "dfcu4 = dfcu4.sort_values(by='Date')\n",
    "check_stationarity(dfcu4['Price'])\n",
    "\n",
    "# Calculate returns and perform stationarity tests on returns\n",
    "print(\"\\nRETURN STATIONARITY TESTS:\")\n",
    "returnscu4 = calculate_returns(dfcu4['Price'])\n",
    "check_stationarity(returnscu4)\n"
   ]
  },
  {
   "cell_type": "markdown",
   "metadata": {},
   "source": [
    "### SHFE Copper Future 1M"
   ]
  },
  {
   "cell_type": "code",
   "execution_count": 21,
   "metadata": {},
   "outputs": [
    {
     "name": "stdout",
     "output_type": "stream",
     "text": [
      "\n",
      "Stationarity Test Results:\n",
      "\n",
      "ADF Test:\n",
      "  Test Statistic: -1.1148243051590254\n",
      "  p-value: 0.7091240832156314\n",
      "  Stationary: False\n",
      "\n",
      "KPSS Test:\n",
      "  Test Statistic: 5.677085304487195\n",
      "  p-value: 0.01\n",
      "  Stationary: False\n",
      "\n",
      "Zivot-Andrews Test:\n",
      "  Test Statistic: -4.088384772054095\n",
      "  p-value: 0.29860200882940496\n",
      "  Single Structural Break: False\n",
      "\n",
      "RETURN STATIONARITY TESTS:\n",
      "\n",
      "Stationarity Test Results:\n",
      "\n",
      "ADF Test:\n",
      "  Test Statistic: -28.910492105246465\n",
      "  p-value: 0.0\n",
      "  Stationary: True\n",
      "\n",
      "KPSS Test:\n",
      "  Test Statistic: 0.04900291272541094\n",
      "  p-value: 0.1\n",
      "  Stationary: True\n",
      "\n",
      "Zivot-Andrews Test:\n",
      "  Test Statistic: -29.169095257057062\n",
      "  p-value: 1e-05\n",
      "  Single Structural Break: True\n"
     ]
    },
    {
     "data": {
      "text/plain": [
       "{'ADF': {'Test Statistic': np.float64(-28.910492105246465),\n",
       "  'p-value': 0.0,\n",
       "  'Stationary': True},\n",
       " 'KPSS': {'Test Statistic': np.float64(0.04900291272541094),\n",
       "  'p-value': np.float64(0.1),\n",
       "  'Stationary': np.True_},\n",
       " 'Zivot-Andrews': {'Test Statistic': -29.169095257057062,\n",
       "  'p-value': 1e-05,\n",
       "  'Single Structural Break': True}}"
      ]
     },
     "execution_count": 21,
     "metadata": {},
     "output_type": "execute_result"
    }
   ],
   "source": [
    "dfcu5 = pd.read_csv('/Users/michal/Documents/Code/metals/reuters_data/SHFE Copper Commodity Future Continuation 1.csv', sep=';')\n",
    "dfcu5 = dfcu5.rename(columns={'Exchange Date': 'Date'})\n",
    "dfcu5 = dfcu5.rename(columns={'Close' : 'Price'})\n",
    "dfcu5['Date'] = pd.to_datetime(dfcu5['Date'], format='%d-%b-%Y')\n",
    "dfcu5['Price'] = dfcu5['Price'].str.replace('\\xa0', '').str.replace(',', '.').astype(float)\n",
    "dfcu5 = dfcu5.sort_values(by='Date')\n",
    "check_stationarity(dfcu5['Price'])\n",
    "\n",
    "# Calculate returns and perform stationarity tests on returns\n",
    "print(\"\\nRETURN STATIONARITY TESTS:\")\n",
    "returnscu5 = calculate_returns(dfcu5['Price'])\n",
    "check_stationarity(returnscu5)\n"
   ]
  },
  {
   "cell_type": "markdown",
   "metadata": {},
   "source": [
    "### Copper Miners ETF"
   ]
  },
  {
   "cell_type": "code",
   "execution_count": 22,
   "metadata": {},
   "outputs": [
    {
     "name": "stdout",
     "output_type": "stream",
     "text": [
      "\n",
      "Stationarity Test Results:\n",
      "\n",
      "ADF Test:\n",
      "  Test Statistic: -1.992462934062984\n",
      "  p-value: 0.28988758696491224\n",
      "  Stationary: False\n",
      "\n",
      "KPSS Test:\n",
      "  Test Statistic: 1.7448819627052208\n",
      "  p-value: 0.01\n",
      "  Stationary: False\n",
      "\n",
      "Zivot-Andrews Test:\n",
      "  Test Statistic: -4.4304761032354865\n",
      "  p-value: 0.14166794462957946\n",
      "  Single Structural Break: False\n",
      "\n",
      "RETURN STATIONARITY TESTS:\n",
      "\n",
      "Stationarity Test Results:\n",
      "\n",
      "ADF Test:\n",
      "  Test Statistic: -10.193729503004297\n",
      "  p-value: 6.2246699397281615e-18\n",
      "  Stationary: True\n",
      "\n",
      "KPSS Test:\n",
      "  Test Statistic: 0.1346518530648133\n",
      "  p-value: 0.1\n",
      "  Stationary: True\n",
      "\n",
      "Zivot-Andrews Test:\n",
      "  Test Statistic: -10.49205848179197\n",
      "  p-value: 1e-05\n",
      "  Single Structural Break: True\n"
     ]
    },
    {
     "data": {
      "text/plain": [
       "{'ADF': {'Test Statistic': np.float64(-10.193729503004297),\n",
       "  'p-value': np.float64(6.2246699397281615e-18),\n",
       "  'Stationary': np.True_},\n",
       " 'KPSS': {'Test Statistic': np.float64(0.1346518530648133),\n",
       "  'p-value': np.float64(0.1),\n",
       "  'Stationary': np.True_},\n",
       " 'Zivot-Andrews': {'Test Statistic': -10.49205848179197,\n",
       "  'p-value': 1e-05,\n",
       "  'Single Structural Break': True}}"
      ]
     },
     "execution_count": 22,
     "metadata": {},
     "output_type": "execute_result"
    }
   ],
   "source": [
    "dfcu6 = pd.read_csv('/Users/michal/Documents/Code/metals/reuters_data/Sprott Copper Miners ETF.csv', sep=';')\n",
    "dfcu6 = dfcu6.rename(columns={'Exchange Date': 'Date'})\n",
    "dfcu6 = dfcu6.rename(columns={'Close' : 'Price'})\n",
    "dfcu6['Date'] = pd.to_datetime(dfcu6['Date'], format='%d-%b-%Y')\n",
    "dfcu6['Price'] = dfcu6['Price'].str.replace('\\xa0', '').str.replace(',', '.').astype(float)\n",
    "dfcu6 = dfcu6.sort_values(by='Date')\n",
    "dfcu6 = dfcu6.drop(index=0)\n",
    "check_stationarity(dfcu6['Price'])\n",
    "\n",
    "# Calculate returns and perform stationarity tests on returns\n",
    "print(\"\\nRETURN STATIONARITY TESTS:\")\n",
    "returnscu6 = calculate_returns(dfcu6['Price'])\n",
    "check_stationarity(returnscu6)\n"
   ]
  }
 ],
 "metadata": {
  "kernelspec": {
   "display_name": "metal",
   "language": "python",
   "name": "python3"
  },
  "language_info": {
   "codemirror_mode": {
    "name": "ipython",
    "version": 3
   },
   "file_extension": ".py",
   "mimetype": "text/x-python",
   "name": "python",
   "nbconvert_exporter": "python",
   "pygments_lexer": "ipython3",
   "version": "3.12.2"
  }
 },
 "nbformat": 4,
 "nbformat_minor": 2
}
