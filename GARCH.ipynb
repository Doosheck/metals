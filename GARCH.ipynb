{
 "cells": [
  {
   "cell_type": "markdown",
   "metadata": {},
   "source": [
    "## Comparing the time series data with GARCH models"
   ]
  },
  {
   "cell_type": "code",
   "execution_count": 1,
   "metadata": {},
   "outputs": [],
   "source": [
    "import pandas as pd\n",
    "import numpy as np\n",
    "import matplotlib.pyplot as plt\n",
    "from arch import arch_model"
   ]
  },
  {
   "cell_type": "code",
   "execution_count": 5,
   "metadata": {},
   "outputs": [],
   "source": [
    "# Load data\n",
    "copper = pd.read_csv('data/Cobalt_prices_2017-01-01_to_2024-12-31_merged.csv', header=0, index_col=0)\n",
    "lithium = pd.read_csv('data/Lithium_prices_2017-01-01_to_2024-12-31_merged.csv', header=0, index_col=0)\n",
    "nickel = pd.read_csv('data/Nickel_prices_2017-01-01_to_2024-12-31_merged.csv', header=0, index_col=0)\n",
    "cobalt = pd.read_csv('data/Copper_prices_2017-01-01_to_2024-12-31_merged.csv', header=0, index_col=0)"
   ]
  },
  {
   "cell_type": "code",
   "execution_count": 6,
   "metadata": {},
   "outputs": [],
   "source": [
    "# Calculate returns\n",
    "copper_returns = copper['Price'].pct_change().dropna()\n",
    "lithium_returns = lithium['Price'].pct_change().dropna()\n",
    "nickel_returns = nickel['Price'].pct_change().dropna()\n",
    "cobalt_returns = cobalt['Price'].pct_change().dropna()"
   ]
  }
 ],
 "metadata": {
  "kernelspec": {
   "display_name": "metal",
   "language": "python",
   "name": "python3"
  },
  "language_info": {
   "codemirror_mode": {
    "name": "ipython",
    "version": 3
   },
   "file_extension": ".py",
   "mimetype": "text/x-python",
   "name": "python",
   "nbconvert_exporter": "python",
   "pygments_lexer": "ipython3",
   "version": "3.12.2"
  }
 },
 "nbformat": 4,
 "nbformat_minor": 2
}
