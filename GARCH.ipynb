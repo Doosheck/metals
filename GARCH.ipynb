{
 "cells": [
  {
   "cell_type": "markdown",
   "metadata": {},
   "source": [
    "## Comparing the time series data with GARCH models"
   ]
  },
  {
   "cell_type": "code",
   "execution_count": 1,
   "metadata": {},
   "outputs": [],
   "source": [
    "import pandas as pd\n",
    "import numpy as np\n",
    "import matplotlib.pyplot as plt\n",
    "from arch import arch_model"
   ]
  },
  {
   "cell_type": "code",
   "execution_count": 5,
   "metadata": {},
   "outputs": [],
   "source": [
    "# Load data\n",
    "copper = pd.read_csv('data/Cobalt_prices_2017-01-01_to_2024-12-31_merged.csv', header=0, index_col=0)\n",
    "lithium = pd.read_csv('data/Lithium_prices_2017-01-01_to_2024-12-31_merged.csv', header=0, index_col=0)\n",
    "nickel = pd.read_csv('data/Nickel_prices_2017-01-01_to_2024-12-31_merged.csv', header=0, index_col=0)\n",
    "cobalt = pd.read_csv('data/Copper_prices_2017-01-01_to_2024-12-31_merged.csv', header=0, index_col=0)"
   ]
  },
  {
   "cell_type": "code",
   "execution_count": 6,
   "metadata": {},
   "outputs": [],
   "source": [
    "# Calculate returns\n",
    "copper_returns = copper['Price'].pct_change().dropna()\n",
    "lithium_returns = lithium['Price'].pct_change().dropna()\n",
    "nickel_returns = nickel['Price'].pct_change().dropna()\n",
    "cobalt_returns = cobalt['Price'].pct_change().dropna()"
   ]
  },
  {
   "cell_type": "markdown",
   "metadata": {},
   "source": [
    "### Fitting GARCH models to the time series data"
   ]
  },
  {
   "cell_type": "markdown",
   "metadata": {},
   "source": [
    "Copper"
   ]
  },
  {
   "cell_type": "code",
   "execution_count": 7,
   "metadata": {},
   "outputs": [
    {
     "name": "stdout",
     "output_type": "stream",
     "text": [
      "Iteration:      1,   Func. Count:      5,   Neg. LLF: -12524.031919530546\n",
      "Inequality constraints incompatible    (Exit mode 4)\n",
      "            Current function value: -12524.031844931566\n",
      "            Iterations: 1\n",
      "            Function evaluations: 5\n",
      "            Gradient evaluations: 1\n",
      "                     Constant Mean - GARCH Model Results                      \n",
      "==============================================================================\n",
      "Dep. Variable:                  Price   R-squared:                       0.000\n",
      "Mean Model:             Constant Mean   Adj. R-squared:                  0.000\n",
      "Vol Model:                      GARCH   Log-Likelihood:                12524.0\n",
      "Distribution:                  Normal   AIC:                          -25040.1\n",
      "Method:            Maximum Likelihood   BIC:                          -25014.8\n",
      "                                        No. Observations:                 4119\n",
      "Date:                Fri, Feb 28 2025   Df Residuals:                     4118\n",
      "Time:                        23:06:19   Df Model:                            1\n",
      "                                 Mean Model                                 \n",
      "============================================================================\n",
      "                 coef    std err          t      P>|t|      95.0% Conf. Int.\n",
      "----------------------------------------------------------------------------\n",
      "mu         1.5118e-05  6.317e-08    239.311      0.000 [1.499e-05,1.524e-05]\n",
      "                              Volatility Model                              \n",
      "============================================================================\n",
      "                 coef    std err          t      P>|t|      95.0% Conf. Int.\n",
      "----------------------------------------------------------------------------\n",
      "omega      3.4778e-06  6.172e-13  5.634e+06      0.000 [3.478e-06,3.478e-06]\n",
      "alpha[1]       0.0500  2.078e-02      2.406  1.612e-02 [9.274e-03,9.073e-02]\n",
      "beta[1]        0.9300  1.887e-02     49.284      0.000     [  0.893,  0.967]\n",
      "============================================================================\n",
      "\n",
      "Covariance estimator: robust\n",
      "WARNING: The optimizer did not indicate successful convergence. The message was Inequality constraints incompatible.\n",
      "See convergence_flag.\n",
      "\n"
     ]
    },
    {
     "name": "stderr",
     "output_type": "stream",
     "text": [
      "/Users/michal/miniconda3/envs/metal/lib/python3.12/site-packages/arch/univariate/base.py:309: DataScaleWarning: y is poorly scaled, which may affect convergence of the optimizer when\n",
      "estimating the model parameters. The scale of y is 0.0001739. Parameter\n",
      "estimation work better when this value is between 1 and 1000. The recommended\n",
      "rescaling is 100 * y.\n",
      "\n",
      "This warning can be disabled by either rescaling y before initializing the\n",
      "model or by setting rescale=False.\n",
      "\n",
      "  warnings.warn(\n",
      "/Users/michal/miniconda3/envs/metal/lib/python3.12/site-packages/arch/univariate/base.py:768: ConvergenceWarning: The optimizer returned code 4. The message is:\n",
      "Inequality constraints incompatible\n",
      "See scipy.optimize.fmin_slsqp for code meaning.\n",
      "\n",
      "  warnings.warn(\n"
     ]
    }
   ],
   "source": [
    "copper_garch = arch_model(copper_returns, vol='Garch', p=1, q=1)\n",
    "copper_results = copper_garch.fit()\n",
    "print(copper_results.summary())"
   ]
  },
  {
   "cell_type": "markdown",
   "metadata": {},
   "source": [
    "Scaling the data due to the small value of $y$."
   ]
  },
  {
   "cell_type": "code",
   "execution_count": 9,
   "metadata": {},
   "outputs": [
    {
     "name": "stdout",
     "output_type": "stream",
     "text": [
      "Iteration:      1,   Func. Count:      6,   Neg. LLF: 24274.66690874248\n",
      "Iteration:      2,   Func. Count:     18,   Neg. LLF: 69288668.57610682\n",
      "Iteration:      3,   Func. Count:     28,   Neg. LLF: 8022.970369729506\n",
      "Iteration:      4,   Func. Count:     36,   Neg. LLF: 7012.791642226995\n",
      "Iteration:      5,   Func. Count:     43,   Neg. LLF: 6472.364231811598\n",
      "Iteration:      6,   Func. Count:     49,   Neg. LLF: 6413.655967914404\n",
      "Iteration:      7,   Func. Count:     54,   Neg. LLF: 6413.59295891239\n",
      "Iteration:      8,   Func. Count:     59,   Neg. LLF: 6413.591829728658\n",
      "Iteration:      9,   Func. Count:     64,   Neg. LLF: 6413.591823083802\n",
      "Iteration:     10,   Func. Count:     68,   Neg. LLF: 6413.591823081867\n",
      "Optimization terminated successfully    (Exit mode 0)\n",
      "            Current function value: 6413.591823083802\n",
      "            Iterations: 10\n",
      "            Function evaluations: 68\n",
      "            Gradient evaluations: 10\n",
      "                     Constant Mean - GARCH Model Results                      \n",
      "==============================================================================\n",
      "Dep. Variable:                  Price   R-squared:                       0.000\n",
      "Mean Model:             Constant Mean   Adj. R-squared:                  0.000\n",
      "Vol Model:                      GARCH   Log-Likelihood:               -6413.59\n",
      "Distribution:                  Normal   AIC:                           12835.2\n",
      "Method:            Maximum Likelihood   BIC:                           12860.5\n",
      "                                        No. Observations:                 4119\n",
      "Date:                Fri, Feb 28 2025   Df Residuals:                     4118\n",
      "Time:                        23:08:35   Df Model:                            1\n",
      "                                  Mean Model                                  \n",
      "==============================================================================\n",
      "                  coef    std err          t      P>|t|       95.0% Conf. Int.\n",
      "------------------------------------------------------------------------------\n",
      "mu         -7.7164e-03  1.280e-02     -0.603      0.547 [-3.280e-02,1.737e-02]\n",
      "                              Volatility Model                             \n",
      "===========================================================================\n",
      "                 coef    std err          t      P>|t|     95.0% Conf. Int.\n",
      "---------------------------------------------------------------------------\n",
      "omega          0.0505  3.972e-02      1.272      0.203 [-2.733e-02,  0.128]\n",
      "alpha[1]       0.0525  2.461e-02      2.132  3.297e-02  [4.246e-03,  0.101]\n",
      "beta[1]        0.9235  3.935e-02     23.470 8.190e-122    [  0.846,  1.001]\n",
      "===========================================================================\n",
      "\n",
      "Covariance estimator: robust\n"
     ]
    }
   ],
   "source": [
    "copper_returns_scaled = copper_returns * 100\n",
    "copper_garch_scaled = arch_model(copper_returns_scaled, vol='Garch', p=1, q=1)\n",
    "copper_results_scaled = copper_garch_scaled.fit()\n",
    "print(copper_results_scaled.summary())"
   ]
  }
 ],
 "metadata": {
  "kernelspec": {
   "display_name": "metal",
   "language": "python",
   "name": "python3"
  },
  "language_info": {
   "codemirror_mode": {
    "name": "ipython",
    "version": 3
   },
   "file_extension": ".py",
   "mimetype": "text/x-python",
   "name": "python",
   "nbconvert_exporter": "python",
   "pygments_lexer": "ipython3",
   "version": "3.12.2"
  }
 },
 "nbformat": 4,
 "nbformat_minor": 2
}
