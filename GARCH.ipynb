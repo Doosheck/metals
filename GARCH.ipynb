{
 "cells": [
  {
   "cell_type": "markdown",
   "metadata": {},
   "source": [
    "## Comparing the time series data with GARCH models"
   ]
  },
  {
   "cell_type": "code",
   "execution_count": 1,
   "metadata": {},
   "outputs": [],
   "source": [
    "import pandas as pd\n",
    "import numpy as np\n",
    "import matplotlib.pyplot as plt\n",
    "from arch import arch_model"
   ]
  },
  {
   "cell_type": "code",
   "execution_count": 5,
   "metadata": {},
   "outputs": [],
   "source": [
    "# Load data\n",
    "copper = pd.read_csv('data/Cobalt_prices_2017-01-01_to_2024-12-31_merged.csv', header=0, index_col=0)\n",
    "lithium = pd.read_csv('data/Lithium_prices_2017-01-01_to_2024-12-31_merged.csv', header=0, index_col=0)\n",
    "nickel = pd.read_csv('data/Nickel_prices_2017-01-01_to_2024-12-31_merged.csv', header=0, index_col=0)\n",
    "cobalt = pd.read_csv('data/Copper_prices_2017-01-01_to_2024-12-31_merged.csv', header=0, index_col=0)"
   ]
  },
  {
   "cell_type": "code",
   "execution_count": 6,
   "metadata": {},
   "outputs": [],
   "source": [
    "# Calculate returns\n",
    "copper_returns = copper['Price'].pct_change().dropna()\n",
    "lithium_returns = lithium['Price'].pct_change().dropna()\n",
    "nickel_returns = nickel['Price'].pct_change().dropna()\n",
    "cobalt_returns = cobalt['Price'].pct_change().dropna()"
   ]
  },
  {
   "cell_type": "markdown",
   "metadata": {},
   "source": [
    "### Fitting GARCH models to the time series data"
   ]
  },
  {
   "cell_type": "markdown",
   "metadata": {},
   "source": [
    "Copper"
   ]
  },
  {
   "cell_type": "code",
   "execution_count": 7,
   "metadata": {},
   "outputs": [
    {
     "name": "stdout",
     "output_type": "stream",
     "text": [
      "Iteration:      1,   Func. Count:      5,   Neg. LLF: -12524.031919530546\n",
      "Inequality constraints incompatible    (Exit mode 4)\n",
      "            Current function value: -12524.031844931566\n",
      "            Iterations: 1\n",
      "            Function evaluations: 5\n",
      "            Gradient evaluations: 1\n",
      "                     Constant Mean - GARCH Model Results                      \n",
      "==============================================================================\n",
      "Dep. Variable:                  Price   R-squared:                       0.000\n",
      "Mean Model:             Constant Mean   Adj. R-squared:                  0.000\n",
      "Vol Model:                      GARCH   Log-Likelihood:                12524.0\n",
      "Distribution:                  Normal   AIC:                          -25040.1\n",
      "Method:            Maximum Likelihood   BIC:                          -25014.8\n",
      "                                        No. Observations:                 4119\n",
      "Date:                Fri, Feb 28 2025   Df Residuals:                     4118\n",
      "Time:                        23:06:19   Df Model:                            1\n",
      "                                 Mean Model                                 \n",
      "============================================================================\n",
      "                 coef    std err          t      P>|t|      95.0% Conf. Int.\n",
      "----------------------------------------------------------------------------\n",
      "mu         1.5118e-05  6.317e-08    239.311      0.000 [1.499e-05,1.524e-05]\n",
      "                              Volatility Model                              \n",
      "============================================================================\n",
      "                 coef    std err          t      P>|t|      95.0% Conf. Int.\n",
      "----------------------------------------------------------------------------\n",
      "omega      3.4778e-06  6.172e-13  5.634e+06      0.000 [3.478e-06,3.478e-06]\n",
      "alpha[1]       0.0500  2.078e-02      2.406  1.612e-02 [9.274e-03,9.073e-02]\n",
      "beta[1]        0.9300  1.887e-02     49.284      0.000     [  0.893,  0.967]\n",
      "============================================================================\n",
      "\n",
      "Covariance estimator: robust\n",
      "WARNING: The optimizer did not indicate successful convergence. The message was Inequality constraints incompatible.\n",
      "See convergence_flag.\n",
      "\n"
     ]
    },
    {
     "name": "stderr",
     "output_type": "stream",
     "text": [
      "/Users/michal/miniconda3/envs/metal/lib/python3.12/site-packages/arch/univariate/base.py:309: DataScaleWarning: y is poorly scaled, which may affect convergence of the optimizer when\n",
      "estimating the model parameters. The scale of y is 0.0001739. Parameter\n",
      "estimation work better when this value is between 1 and 1000. The recommended\n",
      "rescaling is 100 * y.\n",
      "\n",
      "This warning can be disabled by either rescaling y before initializing the\n",
      "model or by setting rescale=False.\n",
      "\n",
      "  warnings.warn(\n",
      "/Users/michal/miniconda3/envs/metal/lib/python3.12/site-packages/arch/univariate/base.py:768: ConvergenceWarning: The optimizer returned code 4. The message is:\n",
      "Inequality constraints incompatible\n",
      "See scipy.optimize.fmin_slsqp for code meaning.\n",
      "\n",
      "  warnings.warn(\n"
     ]
    }
   ],
   "source": [
    "copper_garch = arch_model(copper_returns, vol='Garch', p=1, q=1)\n",
    "copper_results = copper_garch.fit()\n",
    "print(copper_results.summary())"
   ]
  },
  {
   "cell_type": "markdown",
   "metadata": {},
   "source": [
    "Scaling the data due to the small value of $y$."
   ]
  },
  {
   "cell_type": "code",
   "execution_count": 9,
   "metadata": {},
   "outputs": [
    {
     "name": "stdout",
     "output_type": "stream",
     "text": [
      "Iteration:      1,   Func. Count:      6,   Neg. LLF: 24274.66690874248\n",
      "Iteration:      2,   Func. Count:     18,   Neg. LLF: 69288668.57610682\n",
      "Iteration:      3,   Func. Count:     28,   Neg. LLF: 8022.970369729506\n",
      "Iteration:      4,   Func. Count:     36,   Neg. LLF: 7012.791642226995\n",
      "Iteration:      5,   Func. Count:     43,   Neg. LLF: 6472.364231811598\n",
      "Iteration:      6,   Func. Count:     49,   Neg. LLF: 6413.655967914404\n",
      "Iteration:      7,   Func. Count:     54,   Neg. LLF: 6413.59295891239\n",
      "Iteration:      8,   Func. Count:     59,   Neg. LLF: 6413.591829728658\n",
      "Iteration:      9,   Func. Count:     64,   Neg. LLF: 6413.591823083802\n",
      "Iteration:     10,   Func. Count:     68,   Neg. LLF: 6413.591823081867\n",
      "Optimization terminated successfully    (Exit mode 0)\n",
      "            Current function value: 6413.591823083802\n",
      "            Iterations: 10\n",
      "            Function evaluations: 68\n",
      "            Gradient evaluations: 10\n",
      "                     Constant Mean - GARCH Model Results                      \n",
      "==============================================================================\n",
      "Dep. Variable:                  Price   R-squared:                       0.000\n",
      "Mean Model:             Constant Mean   Adj. R-squared:                  0.000\n",
      "Vol Model:                      GARCH   Log-Likelihood:               -6413.59\n",
      "Distribution:                  Normal   AIC:                           12835.2\n",
      "Method:            Maximum Likelihood   BIC:                           12860.5\n",
      "                                        No. Observations:                 4119\n",
      "Date:                Fri, Feb 28 2025   Df Residuals:                     4118\n",
      "Time:                        23:08:35   Df Model:                            1\n",
      "                                  Mean Model                                  \n",
      "==============================================================================\n",
      "                  coef    std err          t      P>|t|       95.0% Conf. Int.\n",
      "------------------------------------------------------------------------------\n",
      "mu         -7.7164e-03  1.280e-02     -0.603      0.547 [-3.280e-02,1.737e-02]\n",
      "                              Volatility Model                             \n",
      "===========================================================================\n",
      "                 coef    std err          t      P>|t|     95.0% Conf. Int.\n",
      "---------------------------------------------------------------------------\n",
      "omega          0.0505  3.972e-02      1.272      0.203 [-2.733e-02,  0.128]\n",
      "alpha[1]       0.0525  2.461e-02      2.132  3.297e-02  [4.246e-03,  0.101]\n",
      "beta[1]        0.9235  3.935e-02     23.470 8.190e-122    [  0.846,  1.001]\n",
      "===========================================================================\n",
      "\n",
      "Covariance estimator: robust\n"
     ]
    }
   ],
   "source": [
    "copper_returns_scaled = copper_returns * 100\n",
    "copper_garch_scaled = arch_model(copper_returns_scaled, vol='Garch', p=1, q=1)\n",
    "copper_results_scaled = copper_garch_scaled.fit()\n",
    "print(copper_results_scaled.summary())"
   ]
  },
  {
   "cell_type": "markdown",
   "metadata": {},
   "source": [
    "Lithium"
   ]
  },
  {
   "cell_type": "code",
   "execution_count": 10,
   "metadata": {},
   "outputs": [
    {
     "name": "stdout",
     "output_type": "stream",
     "text": [
      "Iteration:      1,   Func. Count:      6,   Neg. LLF: 11496087294.571207\n",
      "Iteration:      2,   Func. Count:     17,   Neg. LLF: -9630.532067784998\n",
      "Optimization terminated successfully    (Exit mode 0)\n",
      "            Current function value: -9630.532084987199\n",
      "            Iterations: 6\n",
      "            Function evaluations: 17\n",
      "            Gradient evaluations: 2\n",
      "                     Constant Mean - GARCH Model Results                      \n",
      "==============================================================================\n",
      "Dep. Variable:                  Price   R-squared:                       0.000\n",
      "Mean Model:             Constant Mean   Adj. R-squared:                  0.000\n",
      "Vol Model:                      GARCH   Log-Likelihood:                9630.53\n",
      "Distribution:                  Normal   AIC:                          -19253.1\n",
      "Method:            Maximum Likelihood   BIC:                          -19228.1\n",
      "                                        No. Observations:                 3781\n",
      "Date:                Thu, Mar 06 2025   Df Residuals:                     3780\n",
      "Time:                        12:42:11   Df Model:                            1\n",
      "                                  Mean Model                                 \n",
      "=============================================================================\n",
      "                 coef    std err          t      P>|t|       95.0% Conf. Int.\n",
      "-----------------------------------------------------------------------------\n",
      "mu         6.8825e-05  4.257e-04      0.162      0.872 [-7.656e-04,9.032e-04]\n",
      "                              Volatility Model                              \n",
      "============================================================================\n",
      "                 coef    std err          t      P>|t|      95.0% Conf. Int.\n",
      "----------------------------------------------------------------------------\n",
      "omega      1.8951e-05  4.007e-13  4.730e+07      0.000 [1.895e-05,1.895e-05]\n",
      "alpha[1]       0.0500  5.355e-02      0.934      0.350  [-5.496e-02,  0.155]\n",
      "beta[1]        0.9300  3.241e-02     28.694 4.507e-181     [  0.866,  0.994]\n",
      "============================================================================\n",
      "\n",
      "Covariance estimator: robust\n"
     ]
    },
    {
     "name": "stderr",
     "output_type": "stream",
     "text": [
      "/Users/michal/miniconda3/envs/metal/lib/python3.12/site-packages/arch/univariate/base.py:309: DataScaleWarning: y is poorly scaled, which may affect convergence of the optimizer when\n",
      "estimating the model parameters. The scale of y is 0.0009475. Parameter\n",
      "estimation work better when this value is between 1 and 1000. The recommended\n",
      "rescaling is 100 * y.\n",
      "\n",
      "This warning can be disabled by either rescaling y before initializing the\n",
      "model or by setting rescale=False.\n",
      "\n",
      "  warnings.warn(\n"
     ]
    }
   ],
   "source": [
    "lithium_garch = arch_model(lithium_returns, vol='Garch', p=1, q=1)\n",
    "lithium_results = lithium_garch.fit()\n",
    "print(lithium_results.summary())"
   ]
  },
  {
   "cell_type": "markdown",
   "metadata": {},
   "source": [
    "Scaling the lithium data due to the small value of $y$."
   ]
  },
  {
   "cell_type": "code",
   "execution_count": 11,
   "metadata": {},
   "outputs": [
    {
     "name": "stdout",
     "output_type": "stream",
     "text": [
      "Iteration:      1,   Func. Count:      6,   Neg. LLF: 15604.701280332249\n",
      "Iteration:      2,   Func. Count:     14,   Neg. LLF: 19401.95750217328\n",
      "Iteration:      3,   Func. Count:     22,   Neg. LLF: 11213.535454293855\n",
      "Iteration:      4,   Func. Count:     30,   Neg. LLF: 7760.394508652338\n",
      "Iteration:      5,   Func. Count:     35,   Neg. LLF: 7762.742100749955\n",
      "Iteration:      6,   Func. Count:     41,   Neg. LLF: 7760.279201903539\n",
      "Iteration:      7,   Func. Count:     46,   Neg. LLF: 7760.2787881739505\n",
      "Iteration:      8,   Func. Count:     50,   Neg. LLF: 7760.278784301554\n",
      "Optimization terminated successfully    (Exit mode 0)\n",
      "            Current function value: 7760.2787881739505\n",
      "            Iterations: 8\n",
      "            Function evaluations: 50\n",
      "            Gradient evaluations: 8\n",
      "                     Constant Mean - GARCH Model Results                      \n",
      "==============================================================================\n",
      "Dep. Variable:                  Price   R-squared:                       0.000\n",
      "Mean Model:             Constant Mean   Adj. R-squared:                  0.000\n",
      "Vol Model:                      GARCH   Log-Likelihood:               -7760.28\n",
      "Distribution:                  Normal   AIC:                           15528.6\n",
      "Method:            Maximum Likelihood   BIC:                           15553.5\n",
      "                                        No. Observations:                 3781\n",
      "Date:                Thu, Mar 06 2025   Df Residuals:                     3780\n",
      "Time:                        12:43:01   Df Model:                            1\n",
      "                               Mean Model                               \n",
      "========================================================================\n",
      "                 coef    std err          t      P>|t|  95.0% Conf. Int.\n",
      "------------------------------------------------------------------------\n",
      "mu         4.0530e-03  7.189e-02  5.638e-02      0.955 [ -0.137,  0.145]\n",
      "                              Volatility Model                             \n",
      "===========================================================================\n",
      "                 coef    std err          t      P>|t|     95.0% Conf. Int.\n",
      "---------------------------------------------------------------------------\n",
      "omega          0.2022      0.420      0.481      0.630    [ -0.621,  1.026]\n",
      "alpha[1]       0.0825  6.623e-02      1.245      0.213 [-4.734e-02,  0.212]\n",
      "beta[1]        0.9175  9.216e-02      9.956  2.375e-23    [  0.737,  1.098]\n",
      "===========================================================================\n",
      "\n",
      "Covariance estimator: robust\n"
     ]
    }
   ],
   "source": [
    "lithium_returns_scaled = lithium_returns * 100\n",
    "lithium_garch_scaled = arch_model(lithium_returns_scaled, vol='Garch', p=1, q=1)\n",
    "lithium_results_scaled = lithium_garch_scaled.fit()\n",
    "print(lithium_results_scaled.summary())"
   ]
  },
  {
   "cell_type": "markdown",
   "metadata": {},
   "source": [
    "Nickel - already scaled"
   ]
  },
  {
   "cell_type": "code",
   "execution_count": 14,
   "metadata": {},
   "outputs": [
    {
     "name": "stdout",
     "output_type": "stream",
     "text": [
      "Iteration:      1,   Func. Count:      6,   Neg. LLF: 27650.793821993408\n",
      "Iteration:      2,   Func. Count:     17,   Neg. LLF: 31327.11557791258\n",
      "Iteration:      3,   Func. Count:     27,   Neg. LLF: 13086.020875555441\n",
      "Iteration:      4,   Func. Count:     34,   Neg. LLF: 7565.055058393344\n",
      "Iteration:      5,   Func. Count:     40,   Neg. LLF: 8841.663494122302\n",
      "Iteration:      6,   Func. Count:     47,   Neg. LLF: 7567.083449994769\n",
      "Iteration:      7,   Func. Count:     53,   Neg. LLF: 7563.119366912543\n",
      "Iteration:      8,   Func. Count:     58,   Neg. LLF: 7563.119189901712\n",
      "Iteration:      9,   Func. Count:     63,   Neg. LLF: 7563.119186105439\n",
      "Iteration:     10,   Func. Count:     67,   Neg. LLF: 7563.119186105298\n",
      "Optimization terminated successfully    (Exit mode 0)\n",
      "            Current function value: 7563.119186105439\n",
      "            Iterations: 10\n",
      "            Function evaluations: 67\n",
      "            Gradient evaluations: 10\n",
      "                     Constant Mean - GARCH Model Results                      \n",
      "==============================================================================\n",
      "Dep. Variable:                  Price   R-squared:                       0.000\n",
      "Mean Model:             Constant Mean   Adj. R-squared:                  0.000\n",
      "Vol Model:                      GARCH   Log-Likelihood:               -7563.12\n",
      "Distribution:                  Normal   AIC:                           15134.2\n",
      "Method:            Maximum Likelihood   BIC:                           15159.5\n",
      "                                        No. Observations:                 4125\n",
      "Date:                Thu, Mar 06 2025   Df Residuals:                     4124\n",
      "Time:                        12:44:19   Df Model:                            1\n",
      "                                  Mean Model                                 \n",
      "=============================================================================\n",
      "                 coef    std err          t      P>|t|       95.0% Conf. Int.\n",
      "-----------------------------------------------------------------------------\n",
      "mu            -0.0101  3.146e-02     -0.321      0.749 [-7.174e-02,5.157e-02]\n",
      "                              Volatility Model                             \n",
      "===========================================================================\n",
      "                 coef    std err          t      P>|t|     95.0% Conf. Int.\n",
      "---------------------------------------------------------------------------\n",
      "omega          0.1325  3.167e-02      4.185  2.855e-05  [7.045e-02,  0.195]\n",
      "alpha[1]       0.1466  7.524e-02      1.948  5.141e-02 [-8.975e-04,  0.294]\n",
      "beta[1]        0.8404  3.511e-02     23.936 1.288e-126    [  0.772,  0.909]\n",
      "===========================================================================\n",
      "\n",
      "Covariance estimator: robust\n"
     ]
    }
   ],
   "source": [
    "nickel_returns_scaled = nickel_returns * 100\n",
    "nickel_garch = arch_model(nickel_returns_scaled, vol='Garch', p=1, q=1)\n",
    "nickel_results = nickel_garch.fit()\n",
    "print(nickel_results.summary())"
   ]
  },
  {
   "cell_type": "markdown",
   "metadata": {},
   "source": [
    "Cobalt - scaled"
   ]
  },
  {
   "cell_type": "code",
   "execution_count": 15,
   "metadata": {},
   "outputs": [
    {
     "name": "stdout",
     "output_type": "stream",
     "text": [
      "Iteration:      1,   Func. Count:      6,   Neg. LLF: 5789908051.151146\n",
      "Iteration:      2,   Func. Count:     15,   Neg. LLF: 400275094458.629\n",
      "Iteration:      3,   Func. Count:     24,   Neg. LLF: 22426.892940242844\n",
      "Iteration:      4,   Func. Count:     32,   Neg. LLF: 9549.656331394975\n",
      "Iteration:      5,   Func. Count:     40,   Neg. LLF: 8814.29562742264\n",
      "Iteration:      6,   Func. Count:     46,   Neg. LLF: 8809.80198493909\n",
      "Iteration:      7,   Func. Count:     51,   Neg. LLF: 8809.793797023425\n",
      "Iteration:      8,   Func. Count:     56,   Neg. LLF: 8809.793403918397\n",
      "Iteration:      9,   Func. Count:     61,   Neg. LLF: 8809.793366086324\n",
      "Iteration:     10,   Func. Count:     66,   Neg. LLF: 8809.793365466705\n",
      "Optimization terminated successfully    (Exit mode 0)\n",
      "            Current function value: 8809.793365466705\n",
      "            Iterations: 10\n",
      "            Function evaluations: 66\n",
      "            Gradient evaluations: 10\n",
      "                     Constant Mean - GARCH Model Results                      \n",
      "==============================================================================\n",
      "Dep. Variable:                  Price   R-squared:                       0.000\n",
      "Mean Model:             Constant Mean   Adj. R-squared:                  0.000\n",
      "Vol Model:                      GARCH   Log-Likelihood:               -8809.79\n",
      "Distribution:                  Normal   AIC:                           17627.6\n",
      "Method:            Maximum Likelihood   BIC:                           17655.7\n",
      "                                        No. Observations:                 8235\n",
      "Date:                Thu, Mar 06 2025   Df Residuals:                     8234\n",
      "Time:                        13:03:55   Df Model:                            1\n",
      "                                  Mean Model                                 \n",
      "=============================================================================\n",
      "                 coef    std err          t      P>|t|       95.0% Conf. Int.\n",
      "-----------------------------------------------------------------------------\n",
      "mu             0.0118  7.905e-03      1.497      0.134 [-3.659e-03,2.733e-02]\n",
      "                               Volatility Model                              \n",
      "=============================================================================\n",
      "                 coef    std err          t      P>|t|       95.0% Conf. Int.\n",
      "-----------------------------------------------------------------------------\n",
      "omega          0.0137  8.296e-03      1.648  9.942e-02 [-2.591e-03,2.993e-02]\n",
      "alpha[1]       0.0126  4.489e-03      2.800  5.103e-03  [3.773e-03,2.137e-02]\n",
      "beta[1]        0.9607  1.568e-02     61.283      0.000      [  0.930,  0.991]\n",
      "=============================================================================\n",
      "\n",
      "Covariance estimator: robust\n"
     ]
    }
   ],
   "source": [
    "cobalt_returns_scaled = cobalt_returns * 100\n",
    "cobalt_garch = arch_model(cobalt_returns_scaled, vol='Garch', p=1, q=1)\n",
    "cobalt_results = cobalt_garch.fit()\n",
    "print(cobalt_results.summary())"
   ]
  },
  {
   "cell_type": "markdown",
   "metadata": {},
   "source": [
    "## Compare the GARCH models"
   ]
  },
  {
   "cell_type": "code",
   "execution_count": 16,
   "metadata": {},
   "outputs": [
    {
     "name": "stdout",
     "output_type": "stream",
     "text": [
      "\n",
      "=== GARCH Model Comparison ===\n",
      "     Metal     Omega  Alpha[1]   Beta[1]  Persistence           AIC  \\\n",
      "2   Nickel  0.132520  0.146579  0.840351     0.986930  15134.238372   \n",
      "1  Lithium  0.000019  0.050000  0.930000     0.980000 -19253.064170   \n",
      "0   Copper  0.000003  0.050000  0.930000     0.980000 -25040.063690   \n",
      "3   Cobalt  0.013668  0.012572  0.960745     0.973317  17627.586731   \n",
      "\n",
      "            BIC  \n",
      "2  15159.537657  \n",
      "1 -19228.113195  \n",
      "0 -25014.770227  \n",
      "3  17655.651326  \n"
     ]
    },
    {
     "data": {
      "image/png": "[encoded data removed]",
      "text/plain": [
       "<Figure size 1200x600 with 1 Axes>"
      ]
     },
     "metadata": {},
     "output_type": "display_data"
    }
   ],
   "source": [
    "models = {\n",
    "    \"Copper\": copper_results,\n",
    "    \"Lithium\": lithium_results,\n",
    "    \"Nickel\": nickel_results,\n",
    "    \"Cobalt\": cobalt_results\n",
    "}\n",
    "\n",
    "# Extract key parameters\n",
    "summary_data = []\n",
    "for name, model in models.items():\n",
    "    params = model.params\n",
    "    alpha_1 = params.get(\"alpha[1]\", None)\n",
    "    beta_1 = params.get(\"beta[1]\", None)\n",
    "    omega = params.get(\"omega\", None)\n",
    "    persistence = (alpha_1 or 0) + (beta_1 or 0)  # Sum alpha + beta\n",
    "    aic = model.aic\n",
    "    bic = model.bic\n",
    "    \n",
    "    summary_data.append([name, omega, alpha_1, beta_1, persistence, aic, bic])\n",
    "\n",
    "# Create a DataFrame for better visualization\n",
    "columns = [\"Metal\", \"Omega\", \"Alpha[1]\", \"Beta[1]\", \"Persistence\", \"AIC\", \"BIC\"]\n",
    "summary_df = pd.DataFrame(summary_data, columns=columns)\n",
    "\n",
    "# Sort by persistence (higher means more volatile memory)\n",
    "summary_df = summary_df.sort_values(by=\"Persistence\", ascending=False)\n",
    "\n",
    "# Print model comparison\n",
    "print(\"\\n=== GARCH Model Comparison ===\")\n",
    "print(summary_df)\n",
    "\n",
    "# Plot conditional volatility\n",
    "plt.figure(figsize=(12, 6))\n",
    "for name, model in models.items():\n",
    "    plt.plot(model.conditional_volatility, label=name)\n",
    "\n",
    "plt.title(\"Conditional Volatility of Metals\")\n",
    "plt.xlabel(\"Time\")\n",
    "plt.ylabel(\"Volatility\")\n",
    "plt.legend()\n",
    "plt.show()\n"
   ]
  }
 ],
 "metadata": {
  "kernelspec": {
   "display_name": "metal",
   "language": "python",
   "name": "python3"
  },
  "language_info": {
   "codemirror_mode": {
    "name": "ipython",
    "version": 3
   },
   "file_extension": ".py",
   "mimetype": "text/x-python",
   "name": "python",
   "nbconvert_exporter": "python",
   "pygments_lexer": "ipython3",
   "version": "3.12.2"
  }
 },
 "nbformat": 4,
 "nbformat_minor": 2
}
